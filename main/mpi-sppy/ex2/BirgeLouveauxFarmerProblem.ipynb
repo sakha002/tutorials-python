{
    "cells": [
        {
            "cell_type": "code",
            "execution_count": 6,
            "metadata": {},
            "outputs": [],
            "source": [
                "#  ___________________________________________________________________________\n",
                "#\n",
                "#  Pyomo: Python Optimization Modeling Objects\n",
                "#  Copyright 2017 National Technology and Engineering Solutions of Sandia, LLC\n",
                "#  Under the terms of Contract DE-NA0003525 with National Technology and \n",
                "#  Engineering Solutions of Sandia, LLC, the U.S. Government retains certain \n",
                "#  rights in this software.\n",
                "#  This software is distributed under the 3-clause BSD License.\n",
                "#  ___________________________________________________________________________\n",
                "\n",
                "# Farmer: rent out version has a scalar root node var\n",
                "# note: this will minimize\n",
                "#\n",
                "# Imports\n",
                "#\n",
                "\n",
                "from pyomo.core import *\n",
                "\n"
            ]
        },
        {
            "cell_type": "code",
            "execution_count": 7,
            "metadata": {},
            "outputs": [],
            "source": [
                "#\n",
                "# Model\n",
                "#\n",
                "\n",
                "model = AbstractModel()\n",
                "\n",
                "#\n",
                "# Parameters\n",
                "#\n",
                "\n",
                "model.CROPS = Set()\n",
                "\n",
                "model.TOTAL_ACREAGE = Param(within=PositiveReals)\n",
                "\n",
                "model.PriceQuota = Param(model.CROPS, within=PositiveReals)\n",
                "\n",
                "model.SubQuotaSellingPrice = Param(model.CROPS, within=PositiveReals)\n",
                "\n",
                "def super_quota_selling_price_validate (model, value, i):\n",
                "    return model.SubQuotaSellingPrice[i] >= model.SuperQuotaSellingPrice[i]\n",
                "\n",
                "model.SuperQuotaSellingPrice = Param(model.CROPS, validate=super_quota_selling_price_validate)\n",
                "\n",
                "model.CattleFeedRequirement = Param(model.CROPS, within=NonNegativeReals)\n",
                "\n",
                "model.PurchasePrice = Param(model.CROPS, within=PositiveReals)\n",
                "\n",
                "model.PlantingCostPerAcre = Param(model.CROPS, within=PositiveReals)\n",
                "\n",
                "model.Yield = Param(model.CROPS, within=NonNegativeReals)"
            ]
        },
        {
            "cell_type": "code",
            "execution_count": 8,
            "metadata": {},
            "outputs": [],
            "source": [
                "#\n",
                "# Variables\n",
                "#\n",
                "\n",
                "model.DevotedAcreage = Var(model.CROPS, bounds=(0.0, model.TOTAL_ACREAGE))\n",
                "\n",
                "model.QuantitySubQuotaSold = Var(model.CROPS, bounds=(0.0, None))\n",
                "model.QuantitySuperQuotaSold = Var(model.CROPS, bounds=(0.0, None))\n",
                "\n",
                "model.QuantityPurchased = Var(model.CROPS, bounds=(0.0, None))"
            ]
        },
        {
            "cell_type": "code",
            "execution_count": 9,
            "metadata": {},
            "outputs": [],
            "source": [
                "#\n",
                "# Constraints\n",
                "#\n",
                "\n",
                "def ConstrainTotalAcreage_rule(model):\n",
                "    return summation(model.DevotedAcreage) <= model.TOTAL_ACREAGE\n",
                "\n",
                "model.ConstrainTotalAcreage = Constraint(rule=ConstrainTotalAcreage_rule)\n",
                "\n",
                "def EnforceCattleFeedRequirement_rule(model, i):\n",
                "    return model.CattleFeedRequirement[i] <= (model.Yield[i] * model.DevotedAcreage[i]) + model.QuantityPurchased[i] - model.QuantitySubQuotaSold[i] - model.QuantitySuperQuotaSold[i]\n",
                "\n",
                "model.EnforceCattleFeedRequirement = Constraint(model.CROPS, rule=EnforceCattleFeedRequirement_rule)\n",
                "\n",
                "def LimitAmountSold_rule(model, i):\n",
                "    return model.QuantitySubQuotaSold[i] + model.QuantitySuperQuotaSold[i] - (model.Yield[i] * model.DevotedAcreage[i]) <= 0.0\n",
                "\n",
                "model.LimitAmountSold = Constraint(model.CROPS, rule=LimitAmountSold_rule)\n",
                "\n",
                "def EnforceQuotas_rule(model, i):\n",
                "    return (0.0, model.QuantitySubQuotaSold[i], model.PriceQuota[i])\n",
                "\n",
                "model.EnforceQuotas = Constraint(model.CROPS, rule=EnforceQuotas_rule)\n",
                "\n",
                "#\n",
                "# Stage-specific cost computations\n",
                "#\n",
                "\n",
                "def ComputeFirstStageCost_rule(model):\n",
                "    return summation(model.PlantingCostPerAcre, model.DevotedAcreage)\n",
                "\n",
                "model.FirstStageCost = Expression(rule=ComputeFirstStageCost_rule)\n",
                "\n",
                "def ComputeSecondStageCost_rule(model):\n",
                "    expr = summation(model.PurchasePrice, model.QuantityPurchased)\n",
                "    expr -= summation(model.SubQuotaSellingPrice, model.QuantitySubQuotaSold)\n",
                "    expr -= summation(model.SuperQuotaSellingPrice, model.QuantitySuperQuotaSold)\n",
                "    return expr\n",
                "\n",
                "model.SecondStageCost = Expression(rule=ComputeSecondStageCost_rule)\n",
                "\n",
                "#\n",
                "# PySP Auto-generated Objective\n",
                "#\n",
                "# minimize: sum of StageCosts\n",
                "#\n",
                "# An active scenario objective equivalent to that generated by PySP is\n",
                "# included here for informational purposes.\n",
                "def total_cost_rule(model):\n",
                "    return model.FirstStageCost + model.SecondStageCost\n",
                "model.Total_Cost_Objective = Objective(rule=total_cost_rule, sense=minimize)"
            ]
        },
        {
            "cell_type": "code",
            "execution_count": 10,
            "metadata": {},
            "outputs": [
                {
                    "name": "stdout",
                    "output_type": "stream",
                    "text": [
                        "[    0.00] Setting up Pyomo environment\n",
                        "[    0.00] Applying Pyomo preprocessing actions\n",
                        "[    0.00] Creating model\n",
                        "[    0.01] Pyomo Finished\n",
                        "ERROR: Unexpected exception while running model:\n",
                        "        'AbstractModel' object has no attribute 'NodeStage'\n"
                    ]
                }
            ],
            "source": [
                "#!pyomo solve --solver=glpk farmerProblem.py meanScenario.dat --summary\n",
                "!pyomo solve --solver=glpk farmerProblem.py scenariodata.dat --summary\n",
                "\n",
                "\n",
                "# from pyomo.dataportal import DataPortal\n",
                "# data = DataPortal()\n",
                "# #data.load(filename = 'meanScenario.dat', model = model)\n",
                "# data.load(model = model)\n",
                "# #load('meanScenario.txt')\n",
                "# #model.create_instance('meanScenario.txt')\n"
            ]
        },
        {
            "cell_type": "code",
            "execution_count": null,
            "metadata": {},
            "outputs": [],
            "source": []
        }
    ],
    "metadata": {
        "interpreter": {
            "hash": "d2499d1ccebb96698b7dfbf35af509d276e268951130a93e6bcfc33da6e8742e"
        },
        "kernelspec": {
            "display_name": "Python 3.9.2 64-bit",
            "name": "python3"
        },
        "language_info": {
            "codemirror_mode": {
                "name": "ipython",
                "version": 3
            },
            "file_extension": ".py",
            "mimetype": "text/x-python",
            "name": "python",
            "nbconvert_exporter": "python",
            "pygments_lexer": "ipython3",
            "version": "3.9.10"
        },
        "orig_nbformat": 4
    },
    "nbformat": 4,
    "nbformat_minor": 2
}
