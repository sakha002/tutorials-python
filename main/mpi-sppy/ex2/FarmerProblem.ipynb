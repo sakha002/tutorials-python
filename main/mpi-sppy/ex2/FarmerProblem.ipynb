{
    "cells": [
        {
            "cell_type": "code",
            "execution_count": 1,
            "metadata": {},
            "outputs": [],
            "source": [
                "#  ___________________________________________________________________________\n",
                "#\n",
                "#  Pyomo: Python Optimization Modeling Objects\n",
                "#  Copyright 2017 National Technology and Engineering Solutions of Sandia, LLC\n",
                "#  Under the terms of Contract DE-NA0003525 with National Technology and \n",
                "#  Engineering Solutions of Sandia, LLC, the U.S. Government retains certain \n",
                "#  rights in this software.\n",
                "#  This software is distributed under the 3-clause BSD License.\n",
                "#  ___________________________________________________________________________\n",
                "\n",
                "# Farmer: rent out version has a scalar root node var\n",
                "# note: this will minimize\n",
                "#\n",
                "# Imports\n",
                "#\n",
                "\n",
                "from pyomo.core import *\n",
                "\n"
            ]
        },
        {
            "cell_type": "code",
            "execution_count": 2,
            "metadata": {},
            "outputs": [
                {
                    "name": "stdout",
                    "output_type": "stream",
                    "text": [
                        "[    0.00] Setting up Pyomo environment\n",
                        "[    0.00] Applying Pyomo preprocessing actions\n",
                        "[    0.00] Pyomo Finished\n",
                        "ERROR: Unexpected exception while running model:\n",
                        "        File meanScenario.dat does not exist!\n"
                    ]
                }
            ],
            "source": [
                "!pyomo solve --solver=glpk farmerProblem.py meanScenario.dat --summary\n",
                "# !pyomo solve --solver=glpk farmerProblem.py scenariodata.dat --summary\n",
                "\n",
                "\n",
                "# from pyomo.dataportal import DataPortal\n",
                "# data = DataPortal()\n",
                "# #data.load(filename = 'meanScenario.dat', model = model)\n",
                "# data.load(model = model)\n",
                "# #load('meanScenario.txt')\n",
                "# #model.create_instance('meanScenario.txt')\n"
            ]
        },
        {
            "cell_type": "code",
            "execution_count": 3,
            "metadata": {},
            "outputs": [
                {
                    "name": "stdout",
                    "output_type": "stream",
                    "text": [
                        "[    0.00] Setting up Pyomo environment\n",
                        "[    0.00] Applying Pyomo preprocessing actions\n",
                        "[    0.00] Creating model\n",
                        "[    0.01] Pyomo Finished\n",
                        "ERROR: Unexpected exception while running model:\n",
                        "        'AbstractModel' object has no attribute 'NodeStage'\n"
                    ]
                }
            ],
            "source": [
                "!pyomo solve --solver=glpk farmerProblem.py scenariodata.dat --summary\n"
            ]
        },
        {
            "cell_type": "markdown",
            "metadata": {},
            "source": [
                "okay so the command that I could make the pysp run from terminal was \n",
                "\n",
                "runef -m ex2 -i ex2 --solver=glpk --solve\n",
                "\n",
                "\n",
                "(given that I run it one level above ex2)\n",
                "(also based on an env built using the older version of Pyomo(pysp included)\n",
                "(in the new version of pysp repo there seems no setup via pip(confirm?), should do from repo directly)"
            ]
        }
    ],
    "metadata": {
        "interpreter": {
            "hash": "d2499d1ccebb96698b7dfbf35af509d276e268951130a93e6bcfc33da6e8742e"
        },
        "kernelspec": {
            "display_name": "Python 3.9.2 64-bit",
            "name": "python3"
        },
        "language_info": {
            "codemirror_mode": {
                "name": "ipython",
                "version": 3
            },
            "file_extension": ".py",
            "mimetype": "text/x-python",
            "name": "python",
            "nbconvert_exporter": "python",
            "pygments_lexer": "ipython3",
            "version": "3.9.10"
        },
        "orig_nbformat": 4
    },
    "nbformat": 4,
    "nbformat_minor": 2
}
