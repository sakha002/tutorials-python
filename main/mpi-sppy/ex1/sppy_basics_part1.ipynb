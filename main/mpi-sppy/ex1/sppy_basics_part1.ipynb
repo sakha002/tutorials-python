{
 "cells": [
  {
   "cell_type": "markdown",
   "metadata": {},
   "source": [
    "okay starting with seeting up the venv\n",
    "\n",
    "setup pyomo\n",
    "setup sppy\n",
    "setup mpi4py\n",
    "    req mpic++, openmpi, etc,\n",
    "    brew install mpich\n",
    "\n",
    "test the mpi4py package installation\n",
    "\n",
    "    mpirun -n 2 python -m mpi4py mpi_one_sided_test.py\n",
    "\n",
    "    test errors out \n",
    "\n",
    "     File \"mpi_one_sided_test.py\", line 42, in main\n",
    "    assert(buff[-1] == 3.)\n",
    "AssertionError\n",
    "Abort(1) on node 1 (rank 1 in comm 0): application called MPI_Abort(MPI_COMM_WORLD, 1) - process 1\n",
    "\n",
    "\n"
   ]
  },
  {
   "cell_type": "markdown",
   "metadata": {},
   "source": [
    "env MPICC=/path/to/mpicc python3 -m pip install mpi4py\n",
    "\n",
    "/usr/local/Cellar/mpich/4.0.1\n",
    "\n",
    "env MPICC=/usr/local/Cellar/mpich/4.0.1 python3 -m pip install mpi4py\n",
    "\n",
    "okay this not working either.\n",
    "install the whole thing from brew?\n",
    "\n",
    "\n",
    "okay so the installation of mpi4py via homebrew works in the main env, but not in the venv, I guess no surprize on that.\n",
    "I should have done the whole setup in a container.\n",
    "\n",
    "okay now should I install mpi-sppy in the main env too?\n",
    "okay let's move on to a simple example"
   ]
  },
  {
   "cell_type": "code",
   "execution_count": 1,
   "metadata": {},
   "outputs": [],
   "source": [
    "import pyomo.environ as pyo\n",
    "\n",
    "def build_model(yields):\n",
    "    model = pyo.ConcreteModel()\n",
    "\n",
    "    # Variables\n",
    "    model.X = pyo.Var([\"WHEAT\", \"CORN\", \"BEETS\"], within=pyo.NonNegativeReals)\n",
    "    model.Y = pyo.Var([\"WHEAT\", \"CORN\"], within=pyo.NonNegativeReals)\n",
    "    model.W = pyo.Var(\n",
    "        [\"WHEAT\", \"CORN\", \"BEETS_FAVORABLE\", \"BEETS_UNFAVORABLE\"],\n",
    "        within=pyo.NonNegativeReals,\n",
    "    )\n",
    "\n",
    "    # Objective function\n",
    "    model.PLANTING_COST = 150 * model.X[\"WHEAT\"] + 230 * model.X[\"CORN\"] + 260 * model.X[\"BEETS\"]\n",
    "    model.PURCHASE_COST = 238 * model.Y[\"WHEAT\"] + 210 * model.Y[\"CORN\"]\n",
    "    model.SALES_REVENUE = (\n",
    "        170 * model.W[\"WHEAT\"] + 150 * model.W[\"CORN\"]\n",
    "        + 36 * model.W[\"BEETS_FAVORABLE\"] + 10 * model.W[\"BEETS_UNFAVORABLE\"]\n",
    "    )\n",
    "    model.OBJ = pyo.Objective(\n",
    "        expr=model.PLANTING_COST + model.PURCHASE_COST - model.SALES_REVENUE,\n",
    "        sense=pyo.minimize\n",
    "    )\n",
    "\n",
    "    # Constraints\n",
    "    model.CONSTR= pyo.ConstraintList()\n",
    "\n",
    "    model.CONSTR.add(pyo.summation(model.X) <= 500)\n",
    "    model.CONSTR.add(\n",
    "        yields[0] * model.X[\"WHEAT\"] + model.Y[\"WHEAT\"] - model.W[\"WHEAT\"] >= 200\n",
    "    )\n",
    "    model.CONSTR.add(\n",
    "        yields[1] * model.X[\"CORN\"] + model.Y[\"CORN\"] - model.W[\"CORN\"] >= 240\n",
    "    )\n",
    "    model.CONSTR.add(\n",
    "        yields[2] * model.X[\"BEETS\"] - model.W[\"BEETS_FAVORABLE\"] - model.W[\"BEETS_UNFAVORABLE\"] >= 0\n",
    "    )\n",
    "    model.W[\"BEETS_FAVORABLE\"].setub(6000)\n",
    "\n",
    "    return model"
   ]
  },
  {
   "cell_type": "code",
   "execution_count": 2,
   "metadata": {},
   "outputs": [
    {
     "name": "stdout",
     "output_type": "stream",
     "text": [
      "-118600.0\n"
     ]
    }
   ],
   "source": [
    "yields = [2.5, 3, 20]\n",
    "model = build_model(yields)\n",
    "solver = pyo.SolverFactory(\"glpk\")\n",
    "solver.solve(model)\n",
    "\n",
    "# Display the objective value to one decimal place\n",
    "print(f\"{pyo.value(model.OBJ):.1f}\")"
   ]
  },
  {
   "cell_type": "code",
   "execution_count": 3,
   "metadata": {},
   "outputs": [
    {
     "data": {
      "text/plain": [
       "300.0"
      ]
     },
     "execution_count": 3,
     "metadata": {},
     "output_type": "execute_result"
    }
   ],
   "source": [
    "model.X[\"BEETS\"].value"
   ]
  },
  {
   "cell_type": "code",
   "execution_count": 4,
   "metadata": {},
   "outputs": [],
   "source": [
    "import mpisppy.utils.sputils as sputils\n",
    "\n",
    "def scenario_creator(scenario_name):\n",
    "    if scenario_name == \"good\":\n",
    "        yields = [3, 3.6, 24]\n",
    "    elif scenario_name == \"average\":\n",
    "        yields = [2.5, 3, 20]\n",
    "    elif scenario_name == \"bad\":\n",
    "        yields = [2, 2.4, 16]\n",
    "    else:\n",
    "        raise ValueError(\"Unrecognized scenario name\")\n",
    "\n",
    "    model = build_model(yields)\n",
    "    sputils.attach_root_node(model, model.PLANTING_COST, [model.X])\n",
    "    model._mpisppy_probability = 1.0 / 3\n",
    "    return model"
   ]
  },
  {
   "cell_type": "code",
   "execution_count": 5,
   "metadata": {},
   "outputs": [
    {
     "name": "stdout",
     "output_type": "stream",
     "text": [
      "# ==========================================================\n",
      "# = Solver Results                                         =\n",
      "# ==========================================================\n",
      "# ----------------------------------------------------------\n",
      "#   Problem Information\n",
      "# ----------------------------------------------------------\n",
      "Problem: \n",
      "- Name: unknown\n",
      "  Lower bound: -118600.0\n",
      "  Upper bound: -118600.0\n",
      "  Number of objectives: 1\n",
      "  Number of constraints: 5\n",
      "  Number of variables: 10\n",
      "  Number of nonzeros: 13\n",
      "  Sense: minimize\n",
      "# ----------------------------------------------------------\n",
      "#   Solver Information\n",
      "# ----------------------------------------------------------\n",
      "Solver: \n",
      "- Status: ok\n",
      "  Termination condition: optimal\n",
      "  Statistics: \n",
      "    Branch and bound: \n",
      "      Number of bounded subproblems: 0\n",
      "      Number of created subproblems: 0\n",
      "  Error rc: 0\n",
      "  Time: 0.014734029769897461\n",
      "# ----------------------------------------------------------\n",
      "#   Solution Information\n",
      "# ----------------------------------------------------------\n",
      "Solution: \n",
      "- number of solutions: 0\n",
      "  number of solutions displayed: 0\n"
     ]
    }
   ],
   "source": [
    "opt = pyo.SolverFactory(\"glpk\",warmstart=True)\n",
    "results = opt.solve(model)\n",
    "results.write()"
   ]
  },
  {
   "cell_type": "code",
   "execution_count": 6,
   "metadata": {},
   "outputs": [
    {
     "name": "stdout",
     "output_type": "stream",
     "text": [
      "[    0.08] Initializing SPBase\n",
      "-108390.0\n"
     ]
    }
   ],
   "source": [
    "from mpisppy.opt.ef import ExtensiveForm\n",
    "\n",
    "options = {\"solver\": \"glpk\"}\n",
    "all_scenario_names = [\"good\", \"average\", \"bad\"]\n",
    "ef = ExtensiveForm(options, all_scenario_names, scenario_creator)\n",
    "results = ef.solve_extensive_form()\n",
    "\n",
    "objval = ef.get_objective_value()\n",
    "print(f\"{objval:.1f}\")"
   ]
  },
  {
   "cell_type": "code",
   "execution_count": 7,
   "metadata": {},
   "outputs": [
    {
     "name": "stdout",
     "output_type": "stream",
     "text": [
      "X[BEETS] 250.0\n",
      "X[CORN] 80.0\n",
      "X[WHEAT] 170.0\n"
     ]
    }
   ],
   "source": [
    "soln = ef.get_root_solution()\n",
    "for (var_name, var_val) in soln.items():\n",
    "    print(var_name, var_val)"
   ]
  },
  {
   "cell_type": "code",
   "execution_count": 8,
   "metadata": {},
   "outputs": [
    {
     "name": "stdout",
     "output_type": "stream",
     "text": [
      "[    0.20] Initializing SPBase\n",
      "good X[BEETS] 250.0\n",
      "good X[CORN] 80.0\n",
      "good X[WHEAT] 170.0\n",
      "average X[BEETS] 250.0\n",
      "average X[CORN] 80.0\n",
      "average X[WHEAT] 170.0\n",
      "bad X[BEETS] 250.0\n",
      "bad X[CORN] 80.0\n",
      "bad X[WHEAT] 170.0\n"
     ]
    }
   ],
   "source": [
    "from mpisppy.opt.ef import ExtensiveForm\n",
    "\n",
    "all_scenario_names = [\"good\", \"average\", \"bad\"]\n",
    "bounds = {name: -432000 for name in all_scenario_names}\n",
    "options = {\n",
    "    \"solver\": \"glpk\",\n",
    "    #\"sp_solver_options\" : {\"threads\" : 1},\n",
    "    \"valid_eta_lb\": bounds,\n",
    "    \"max_iter\": 10,\n",
    "}\n",
    "\n",
    "ef = ExtensiveForm(options, all_scenario_names, scenario_creator)\n",
    "result = ef.solve_extensive_form()\n",
    "\n",
    "variables = ef.gather_var_values_to_rank0()\n",
    "for ((scen_name, var_name), var_value) in variables.items():\n",
    "    print(scen_name, var_name, var_value)"
   ]
  },
  {
   "cell_type": "code",
   "execution_count": 9,
   "metadata": {},
   "outputs": [],
   "source": [
    "ef.write_tree_solution('solution')\n"
   ]
  },
  {
   "cell_type": "code",
   "execution_count": 10,
   "metadata": {},
   "outputs": [
    {
     "name": "stdout",
     "output_type": "stream",
     "text": [
      "[    0.28] Initializing SPBase\n",
      "Current Iteration: 1 Time Elapsed:    0.00 Current Objective: -Inf\n",
      "Current Iteration: 2 Time Elapsed:    0.12 Time Spent on Last Master:    0.02 Time Spent Generating Last Cut Set:    0.09 Current Objective: -1296000.00\n",
      "Current Iteration: 3 Time Elapsed:    0.23 Time Spent on Last Master:    0.04 Time Spent Generating Last Cut Set:    0.07 Current Objective: -160000.00\n",
      "Current Iteration: 4 Time Elapsed:    0.34 Time Spent on Last Master:    0.04 Time Spent Generating Last Cut Set:    0.07 Current Objective: -113750.00\n",
      "Converged in 4 iterations.\n",
      "Total Time Elapsed:    0.45 Time Spent on Last Master:    0.04 Time spent verifying second stage:    0.06 Final Objective: -108390.00\n",
      "good X[BEETS] 249.999999999998\n",
      "good X[CORN] 80.0000000000075\n",
      "good X[WHEAT] 169.999999999994\n",
      "average X[BEETS] 249.999999999998\n",
      "average X[CORN] 80.0000000000075\n",
      "average X[WHEAT] 169.999999999994\n",
      "bad X[BEETS] 249.999999999998\n",
      "bad X[CORN] 80.0000000000075\n",
      "bad X[WHEAT] 169.999999999994\n"
     ]
    }
   ],
   "source": [
    "from mpisppy.opt.lshaped import LShapedMethod\n",
    "\n",
    "all_scenario_names = [\"good\", \"average\", \"bad\"]\n",
    "bounds = {name: -432000 for name in all_scenario_names}\n",
    "options = {\n",
    "    \"master_solver\": \"glpk\",\n",
    "    \"sp_solver\": \"glpk\",\n",
    "    \"root_solver\": \"glpk\",\n",
    "    #\"sp_solver_options\" : {\"threads\" : 1},\n",
    "    \"valid_eta_lb\": bounds,\n",
    "    \"max_iter\": 10,\n",
    "}\n",
    "\n",
    "ls = LShapedMethod(options, all_scenario_names, scenario_creator)\n",
    "result = ls.lshaped_algorithm()\n",
    "\n",
    "variables = ls.gather_var_values_to_rank0()\n",
    "for ((scen_name, var_name), var_value) in variables.items():\n",
    "    print(scen_name, var_name, var_value)"
   ]
  },
  {
   "cell_type": "code",
   "execution_count": 11,
   "metadata": {},
   "outputs": [
    {
     "data": {
      "text/plain": [
       "{('good', 'X[BEETS]'): 249.999999999998,\n",
       " ('good', 'X[CORN]'): 80.0000000000075,\n",
       " ('good', 'X[WHEAT]'): 169.999999999994,\n",
       " ('average', 'X[BEETS]'): 249.999999999998,\n",
       " ('average', 'X[CORN]'): 80.0000000000075,\n",
       " ('average', 'X[WHEAT]'): 169.999999999994,\n",
       " ('bad', 'X[BEETS]'): 249.999999999998,\n",
       " ('bad', 'X[CORN]'): 80.0000000000075,\n",
       " ('bad', 'X[WHEAT]'): 169.999999999994}"
      ]
     },
     "execution_count": 11,
     "metadata": {},
     "output_type": "execute_result"
    }
   ],
   "source": [
    "variables"
   ]
  },
  {
   "cell_type": "code",
   "execution_count": 12,
   "metadata": {},
   "outputs": [
    {
     "name": "stdout",
     "output_type": "stream",
     "text": [
      "[    0.80] Initializing SPBase\n",
      "[    0.81] Initializing PHBase\n"
     ]
    }
   ],
   "source": [
    "from mpisppy.opt.ph import PH\n",
    "\n",
    "options = {\n",
    "    \"solvername\": \"ipopt\",\n",
    "    \"PHIterLimit\": 5,\n",
    "    \"defaultPHrho\": 10,\n",
    "    \"convthresh\": 1e-7,\n",
    "    \"verbose\": False,\n",
    "    \"display_progress\": False,\n",
    "    \"display_timing\": False,\n",
    "    \"iter0_solver_options\": dict(),\n",
    "    \"iterk_solver_options\": dict(),\n",
    "}\n",
    "\n",
    "all_scenario_names = [\"good\", \"average\", \"bad\"]\n",
    "ph = PH(\n",
    "    options,\n",
    "    all_scenario_names,\n",
    "    scenario_creator,\n",
    ")"
   ]
  },
  {
   "cell_type": "markdown",
   "metadata": {},
   "source": [
    "brew install ipopt\n"
   ]
  },
  {
   "cell_type": "code",
   "execution_count": 13,
   "metadata": {},
   "outputs": [
    {
     "name": "stdout",
     "output_type": "stream",
     "text": [
      "[    0.84] Creating solvers\n",
      "[    0.84] Entering solve loop in PHBase.Iter0\n",
      "[   11.00] Reached user-specified limit=5 on number of PH iterations\n"
     ]
    },
    {
     "data": {
      "text/plain": [
       "(0.8545040634154965, -107722.02946226574, -inf)"
      ]
     },
     "execution_count": 13,
     "metadata": {},
     "output_type": "execute_result"
    }
   ],
   "source": [
    "ph.ph_main()"
   ]
  },
  {
   "cell_type": "code",
   "execution_count": 14,
   "metadata": {},
   "outputs": [
    {
     "name": "stdout",
     "output_type": "stream",
     "text": [
      "good X[BEETS] 280.6489744760117\n",
      "good X[CORN] 85.26131627112602\n",
      "good X[WHEAT] 134.08971425282763\n",
      "average X[BEETS] 283.27963301152715\n",
      "average X[CORN] 79.99999920010936\n",
      "average X[WHEAT] 136.72037278833426\n",
      "bad X[BEETS] 280.6489744760117\n",
      "bad X[CORN] 85.26131627112554\n",
      "bad X[WHEAT] 134.08971425283008\n"
     ]
    }
   ],
   "source": [
    "variables = ph.gather_var_values_to_rank0()\n",
    "for (scenario_name, variable_name) in variables:\n",
    "    variable_value = variables[scenario_name, variable_name]\n",
    "    print(scenario_name, variable_name, variable_value)"
   ]
  }
 ],
 "metadata": {
  "interpreter": {
   "hash": "cde93dfa38fc358524d9c1f4c4fd5aa60ef39a9f7f0f77c744df2c6640e69ee6"
  },
  "kernelspec": {
   "display_name": "Python 3.9.5 ('.venv-sppy': venv)",
   "language": "python",
   "name": "python3"
  },
  "language_info": {
   "codemirror_mode": {
    "name": "ipython",
    "version": 3
   },
   "file_extension": ".py",
   "mimetype": "text/x-python",
   "name": "python",
   "nbconvert_exporter": "python",
   "pygments_lexer": "ipython3",
   "version": "3.9.10"
  },
  "orig_nbformat": 4
 },
 "nbformat": 4,
 "nbformat_minor": 2
}
