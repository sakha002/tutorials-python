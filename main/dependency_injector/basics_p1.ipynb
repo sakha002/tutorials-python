{
 "cells": [
  {
   "cell_type": "markdown",
   "metadata": {},
   "source": [
    "# Dependency Injector Framework\n",
    "https://python-dependency-injector.ets-labs.org/"
   ]
  },
  {
   "cell_type": "markdown",
   "metadata": {},
   "source": [
    "## example 1  from documentation"
   ]
  },
  {
   "cell_type": "markdown",
   "metadata": {},
   "source": [
    "https://python-dependency-injector.ets-labs.org/examples/application-single-container.html\n",
    "\n",
    "https://github.com/ets-labs/python-dependency-injector/tree/master/examples/miniapps/application-single-container"
   ]
  },
  {
   "cell_type": "markdown",
   "metadata": {},
   "source": [
    "I was not sure if the code will run without an actual s3 connection.  but it does.\n",
    "it appears to me that the part that is supposed to create an s3 client is not actually trying to connect to db uppon creation\n",
    "\n",
    "```\n",
    "s3_client = providers.Singleton(\n",
    "        boto3.client,\n",
    "        service_name=\"s3\",\n",
    "        aws_access_key_id=config.aws.access_key_id,\n",
    "        aws_secret_access_key=config.aws.secret_access_key,\n",
    "    )\n",
    "\n",
    "```\n",
    "\n",
    "also it is interesting how \n",
    "you can run it as a module\n",
    "python -m example user@example.com secret photo.jpg\n",
    "\n",
    "with the addition of __main__.py file\n"
   ]
  }
 ],
 "metadata": {
  "kernelspec": {
   "display_name": "Python 3.8.9 64-bit",
   "language": "python",
   "name": "python3"
  },
  "language_info": {
   "name": "python",
   "version": "3.8.9"
  },
  "orig_nbformat": 4,
  "vscode": {
   "interpreter": {
    "hash": "31f2aee4e71d21fbe5cf8b01ff0e069b9275f58929596ceb00d14d90e3e16cd6"
   }
  }
 },
 "nbformat": 4,
 "nbformat_minor": 2
}
