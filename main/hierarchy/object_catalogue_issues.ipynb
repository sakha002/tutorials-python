{
 "cells": [
  {
   "cell_type": "code",
   "execution_count": 1,
   "metadata": {},
   "outputs": [],
   "source": [
    "import weakref\n",
    "\n",
    "class CarModel:\n",
    "#     _models = weakref.WeakValueDictionary()\n",
    "    _models = dict()\n",
    "\n",
    "     \n",
    "    def __new__(cls, model_name, *args, **kwargs):\n",
    "        model = cls._models.get(model_name)\n",
    "\n",
    "        if not model:\n",
    "             model = super().__new__(cls)\n",
    "             cls._models[model_name] = model\n",
    "        return model\n",
    "\n",
    "\n",
    "\n",
    "\n",
    "    def __init__(self, model_name, air=False, tilt=False,\n",
    "        cruise_control=False, power_locks=False,\n",
    "        alloy_wheels=False, usb_charger=False\n",
    "        \n",
    "    ):\n",
    "\n",
    "        if not hasattr(self, \"initted\"):\n",
    "            self.model_name = model_name\n",
    "            self.air = air\n",
    "            self.tilt = tilt\n",
    "            self.cruise_control = cruise_control\n",
    "            self.power_locks = power_locks\n",
    "            self.alloy_wheels = alloy_wheels\n",
    "            self.usb_charger = usb_charger\n",
    "            self.initted=True\n",
    "\n",
    "\n",
    "\n",
    "    def check_serial(self, serial_number):\n",
    "         print(\"Sorry, we are unable to check \"\n",
    "         \"the serial number {0} on the {1} \"\n",
    "         \"at this time\".format(\n",
    "         serial_number, self.model_name))\n",
    "\n",
    "\n",
    "        "
   ]
  },
  {
   "cell_type": "code",
   "execution_count": null,
   "metadata": {},
   "outputs": [],
   "source": []
  },
  {
   "cell_type": "code",
   "execution_count": null,
   "metadata": {},
   "outputs": [],
   "source": [
    "\n",
    "        "
   ]
  },
  {
   "cell_type": "code",
   "execution_count": 2,
   "metadata": {},
   "outputs": [],
   "source": [
    "class Car:\n",
    "    def __init__(self, model, color, serial):\n",
    "        self.model = model\n",
    "        self.color = color\n",
    "        self.serial = serial\n",
    "    \n",
    "    def check_serial(self):\n",
    "            \n",
    "        return self.model.check_serial(self.serial)"
   ]
  },
  {
   "cell_type": "code",
   "execution_count": 3,
   "metadata": {},
   "outputs": [],
   "source": [
    "dx = CarModel(\"FIT DX\")\n",
    "lx = CarModel(\"FIT LX\", air=True, cruise_control=True,power_locks=True, tilt=True)\n",
    "\n",
    "car1 = Car(dx, \"blue\", \"12345\")\n",
    "car2 = Car(dx, \"black\", \"12346\")\n",
    "car3 = Car(lx, \"red\", \"12347\")\n",
    "\n"
   ]
  },
  {
   "cell_type": "code",
   "execution_count": 4,
   "metadata": {},
   "outputs": [
    {
     "name": "stdout",
     "output_type": "stream",
     "text": [
      "Sorry, we are unable to check the serial number 12345 on the FIT DX at this time\n"
     ]
    }
   ],
   "source": [
    "car1.check_serial()"
   ]
  },
  {
   "cell_type": "code",
   "execution_count": 5,
   "metadata": {},
   "outputs": [
    {
     "name": "stdout",
     "output_type": "stream",
     "text": [
      "Sorry, we are unable to check the serial number 12347 on the FIT LX at this time\n"
     ]
    }
   ],
   "source": [
    "car3.check_serial()"
   ]
  },
  {
   "cell_type": "code",
   "execution_count": 6,
   "metadata": {},
   "outputs": [
    {
     "data": {
      "text/plain": [
       "139953664535504"
      ]
     },
     "execution_count": 6,
     "metadata": {},
     "output_type": "execute_result"
    }
   ],
   "source": [
    "id(lx)\n"
   ]
  },
  {
   "cell_type": "code",
   "execution_count": 7,
   "metadata": {},
   "outputs": [
    {
     "name": "stdout",
     "output_type": "stream",
     "text": [
      "139953664535504\n",
      "139953664535504\n"
     ]
    },
    {
     "data": {
      "text/plain": [
       "True"
      ]
     },
     "execution_count": 7,
     "metadata": {},
     "output_type": "execute_result"
    }
   ],
   "source": [
    "\n",
    "\n",
    "lx2 = CarModel(\"FIT LX\", air=True, cruise_control=True,power_locks=True, tilt=True)\n",
    "\n",
    "print(id(lx2))\n",
    "lx3 = CarModel(\"FIT LX\")\n",
    "print(id(lx3))\n",
    "lx3.air"
   ]
  },
  {
   "cell_type": "code",
   "execution_count": 8,
   "metadata": {},
   "outputs": [],
   "source": [
    "class CarCatalogue3:\n",
    "#     _models = weakref.WeakValueDictionary()\n",
    "    _car_inventory = dict()\n",
    "\n",
    "     \n",
    "    def __new__(cls, car_name, car, *args, **kwargs):\n",
    "        car_item = cls._car_inventory.get(car_name)\n",
    "\n",
    "        if not car_item:\n",
    "             car_item = super().__new__(cls)\n",
    "             cls._car_inventory[car_name] = car_item\n",
    "        return car_item\n",
    "\n",
    "\n",
    "\n",
    "\n",
    "    def __init__(self, car_name, car):\n",
    "    \n",
    "         if not hasattr(self, \"initted\"):\n",
    "             self.model_name = car_name\n",
    "             self.car = car\n",
    "#             self.tilt = tilt\n",
    "#             self.cruise_control = cruise_control\n",
    "#             self.power_locks = power_locks\n",
    "#             self.alloy_wheels = alloy_wheels\n",
    "#             self.usb_charger = usb_charger\n",
    "             self.initted=True\n",
    "    \n",
    "    \n"
   ]
  },
  {
   "cell_type": "code",
   "execution_count": 9,
   "metadata": {},
   "outputs": [],
   "source": [
    "class Car2:\n",
    "    def __init__(self, name, color, serial):\n",
    "        self.name=name\n",
    "        self.color = color\n",
    "        self.serial = serial\n",
    "        self.model = CarCatalogue3(name, self)\n",
    "        "
   ]
  },
  {
   "cell_type": "code",
   "execution_count": 10,
   "metadata": {},
   "outputs": [],
   "source": [
    "\n",
    "car1 = Car2('dxx', \"blue\", \"12345\")\n",
    "car2 = Car2('dx22', \"black\", \"12346\")\n",
    "car3 = Car2('lx21', \"red\", \"12347\")"
   ]
  },
  {
   "cell_type": "code",
   "execution_count": 11,
   "metadata": {},
   "outputs": [
    {
     "data": {
      "text/plain": [
       "{'dxx': <__main__.CarCatalogue3 at 0x7f49867a7b90>,\n",
       " 'dx22': <__main__.CarCatalogue3 at 0x7f49806f8c90>,\n",
       " 'lx21': <__main__.CarCatalogue3 at 0x7f49806f8cd0>}"
      ]
     },
     "execution_count": 11,
     "metadata": {},
     "output_type": "execute_result"
    }
   ],
   "source": [
    "car1.model._car_inventory\n"
   ]
  },
  {
   "cell_type": "code",
   "execution_count": 12,
   "metadata": {},
   "outputs": [
    {
     "data": {
      "text/plain": [
       "'dxx'"
      ]
     },
     "execution_count": 12,
     "metadata": {},
     "output_type": "execute_result"
    }
   ],
   "source": [
    "car1.model._car_inventory['dxx'].model_name"
   ]
  },
  {
   "cell_type": "code",
   "execution_count": 13,
   "metadata": {},
   "outputs": [
    {
     "data": {
      "text/plain": [
       "<__main__.CarCatalogue3 at 0x7f49867a7b90>"
      ]
     },
     "execution_count": 13,
     "metadata": {},
     "output_type": "execute_result"
    }
   ],
   "source": [
    "car1.model"
   ]
  },
  {
   "cell_type": "code",
   "execution_count": 14,
   "metadata": {},
   "outputs": [
    {
     "data": {
      "text/plain": [
       "'dxx'"
      ]
     },
     "execution_count": 14,
     "metadata": {},
     "output_type": "execute_result"
    }
   ],
   "source": [
    "car1.model.model_name\n"
   ]
  },
  {
   "cell_type": "code",
   "execution_count": null,
   "metadata": {},
   "outputs": [],
   "source": []
  }
 ],
 "metadata": {
  "kernelspec": {
   "display_name": "Python 3.7.5 64-bit",
   "language": "python",
   "name": "python37564bitc35f7abf7e75487b93dfebbb541d5b8d"
  },
  "kubeflow_notebook": {
   "docker_image": "",
   "experiment": {
    "id": "",
    "name": ""
   },
   "experiment_name": "",
   "katib_run": false,
   "pipeline_description": "",
   "pipeline_name": "",
   "volumes": []
  },
  "language_info": {
   "codemirror_mode": {
    "name": "ipython",
    "version": 3
   },
   "file_extension": ".py",
   "mimetype": "text/x-python",
   "name": "python",
   "nbconvert_exporter": "python",
   "pygments_lexer": "ipython3",
   "version": "3.7.5"
  }
 },
 "nbformat": 4,
 "nbformat_minor": 4
}
