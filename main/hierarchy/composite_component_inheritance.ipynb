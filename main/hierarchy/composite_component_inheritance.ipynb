{
 "cells": [
  {
   "cell_type": "code",
   "execution_count": 2,
   "metadata": {},
   "outputs": [],
   "source": [
    "import abc\n",
    "\n",
    "class Component(metaclass=abc.ABCMeta):\n",
    "\n",
    "    @abc.abstractmethod\n",
    "    def operation(self):\n",
    "        pass\n",
    "\n",
    "class Composite(Component):\n",
    "\n",
    "    def __init__(self):\n",
    "        self._children = set()\n",
    "\n",
    "    def operation(self):\n",
    "        for child in self._children:\n",
    "            child.operation()\n",
    "\n",
    "    def add(self, component):\n",
    "        self._children.add(component)\n",
    "\n",
    "class Leaf(Component):\n",
    "    def operation(self):\n",
    "        print('operation from leaf')\n",
    "\n",
    "class Another_Leaf(Component):\n",
    "    def operation(self):\n",
    "        print('operation from another leaf')"
   ]
  },
  {
   "cell_type": "code",
   "execution_count": 2,
   "metadata": {},
   "outputs": [
    {
     "name": "stdout",
     "output_type": "stream",
     "text": [
      "operation from leaf\n",
      "operation from leaf\n",
      "operation from another leaf\n"
     ]
    }
   ],
   "source": [
    "leaf1 = Leaf()\n",
    "leaf2 = Leaf()\n",
    "leaf3 = Another_Leaf()\n",
    "\n",
    "composite1 = Composite()\n",
    "composite2 = Composite()\n",
    "\n",
    "composite1.add(leaf1)\n",
    "composite2.add(leaf2)\n",
    "composite2.add(leaf3)\n",
    "composite1.add(composite2)\n",
    "composite1.operation()"
   ]
  },
  {
   "cell_type": "code",
   "execution_count": 3,
   "metadata": {},
   "outputs": [],
   "source": [
    "from __future__ import annotations\n",
    "from abc import ABC, abstractmethod\n",
    "from typing import List\n",
    "\n",
    "\n",
    "class Component(ABC):\n",
    "    \"\"\"\n",
    "    The base Component class declares common operations for both simple and\n",
    "    complex objects of a composition.\n",
    "    \"\"\"\n",
    "\n",
    "    @property\n",
    "    def parent(self) -> Component:\n",
    "        return self._parent\n",
    "\n",
    "    @parent.setter\n",
    "    def parent(self, parent: Component):\n",
    "        \"\"\"\n",
    "        Optionally, the base Component can declare an interface for setting and\n",
    "        accessing a parent of the component in a tree structure. It can also\n",
    "        provide some default implementation for these methods.\n",
    "        \"\"\"\n",
    "\n",
    "        self._parent = parent\n",
    "\n",
    "    \"\"\"\n",
    "    In some cases, it would be beneficial to define the child-management\n",
    "    operations right in the base Component class. This way, you won't need to\n",
    "    expose any concrete component classes to the client code, even during the\n",
    "    object tree assembly. The downside is that these methods will be empty for\n",
    "    the leaf-level components.\n",
    "    \"\"\"\n",
    "    \n",
    "    \n",
    "    def add(self, component: Component) -> None:\n",
    "        pass\n",
    "\n",
    "    def remove(self, component: Component) -> None:\n",
    "        pass\n",
    "\n",
    "    def is_composite(self) -> bool:\n",
    "        \"\"\"\n",
    "        You can provide a method that lets the client code figure out whether a\n",
    "        component can bear children.\n",
    "        \"\"\"\n",
    "\n",
    "        return False\n",
    "\n",
    "    @abstractmethod\n",
    "    def operation(self) -> str:\n",
    "        \"\"\"\n",
    "        The base Component may implement some default behavior or leave it to\n",
    "        concrete classes (by declaring the method containing the behavior as\n",
    "        \"abstract\").\n",
    "        \"\"\"\n",
    "\n",
    "        pass\n",
    "\n",
    "    "
   ]
  },
  {
   "cell_type": "code",
   "execution_count": 4,
   "metadata": {},
   "outputs": [],
   "source": [
    "class Leaf(Component):\n",
    "    \"\"\"\n",
    "    The Leaf class represents the end objects of a composition. A leaf can't\n",
    "    have any children.\n",
    "\n",
    "    Usually, it's the Leaf objects that do the actual work, whereas Composite\n",
    "    objects only delegate to their sub-components.\n",
    "    \"\"\"\n",
    "\n",
    "    def operation(self) -> str:\n",
    "        return \"Leaf\"\n"
   ]
  },
  {
   "cell_type": "code",
   "execution_count": 5,
   "metadata": {},
   "outputs": [],
   "source": [
    "class Composite(Component):\n",
    "    \"\"\"\n",
    "    The Composite class represents the complex components that may have\n",
    "    children. Usually, the Composite objects delegate the actual work to their\n",
    "    children and then \"sum-up\" the result.\n",
    "    \"\"\"\n",
    "\n",
    "    def __init__(self) -> None:\n",
    "        self._children: List[Component] = []\n",
    "\n",
    "    \"\"\"\n",
    "    A composite object can add or remove other components (both simple or\n",
    "    complex) to or from its child list.\n",
    "    \"\"\"\n",
    "\n",
    "    def add(self, component: Component) -> None:\n",
    "        self._children.append(component)\n",
    "        component.parent = self\n",
    "\n",
    "    def remove(self, component: Component) -> None:\n",
    "        self._children.remove(component)\n",
    "        component.parent = None\n",
    "\n",
    "    def is_composite(self) -> bool:\n",
    "        return True\n",
    "\n",
    "    def operation(self) -> str:\n",
    "        \"\"\"\n",
    "        The Composite executes its primary logic in a particular way. It\n",
    "        traverses recursively through all its children, collecting and summing\n",
    "        their results. Since the composite's children pass these calls to their\n",
    "        children and so forth, the whole object tree is traversed as a result.\n",
    "        \"\"\"\n",
    "\n",
    "        results = []\n",
    "        for child in self._children:\n",
    "            results.append(child.operation())\n",
    "        return f\"Branch({'+'.join(results)})\"\n"
   ]
  },
  {
   "cell_type": "code",
   "execution_count": 6,
   "metadata": {},
   "outputs": [],
   "source": [
    "def client_code(component: Component) -> None:\n",
    "    \"\"\"\n",
    "    The client code works with all of the components via the base interface.\n",
    "    \"\"\"\n",
    "\n",
    "    print(f\"RESULT: {component.operation()}\", end=\"\")\n",
    "\n",
    "\n",
    "def client_code2(component1: Component, component2: Component) -> None:\n",
    "    \"\"\"\n",
    "    Thanks to the fact that the child-management operations are declared in the\n",
    "    base Component class, the client code can work with any component, simple or\n",
    "    complex, without depending on their concrete classes.\n",
    "    \"\"\"\n",
    "\n",
    "    if component1.is_composite():\n",
    "        component1.add(component2)\n",
    "\n",
    "    print(f\"RESULT: {component1.operation()}\", end=\"\")"
   ]
  },
  {
   "cell_type": "code",
   "execution_count": 8,
   "metadata": {},
   "outputs": [
    {
     "name": "stdout",
     "output_type": "stream",
     "text": [
      "Client: I've got a simple component:\n",
      "RESULT: Leaf\n",
      "\n",
      "Client: Now I've got a composite tree:\n",
      "RESULT: Branch(Branch(Leaf+Leaf)+Branch(Leaf))\n",
      "\n",
      "Client: I don't need to check the components classes even when managing the tree:\n",
      "RESULT: Branch(Branch(Leaf+Leaf)+Branch(Leaf)+Leaf)"
     ]
    }
   ],
   "source": [
    "\n",
    "# if __name__ == \"__main__\":\n",
    "# This way the client code can support the simple leaf components...\n",
    "simple = Leaf()\n",
    "print(\"Client: I've got a simple component:\")\n",
    "client_code(simple)\n",
    "print(\"\\n\")\n",
    "\n",
    "# ...as well as the complex composites.\n",
    "tree = Composite()\n",
    "\n",
    "branch1 = Composite()\n",
    "branch1.add(Leaf())\n",
    "branch1.add(Leaf())\n",
    "\n",
    "branch2 = Composite()\n",
    "branch2.add(Leaf())\n",
    "\n",
    "tree.add(branch1)\n",
    "tree.add(branch2)\n",
    "\n",
    "print(\"Client: Now I've got a composite tree:\")\n",
    "client_code(tree)\n",
    "print(\"\\n\")\n",
    "\n",
    "print(\"Client: I don't need to check the components classes even when managing the tree:\")\n",
    "client_code2(tree, simple)"
   ]
  },
  {
   "cell_type": "code",
   "execution_count": 10,
   "metadata": {},
   "outputs": [
    {
     "data": {
      "text/plain": [
       "[<__main__.Composite at 0x7ff080442090>,\n",
       " <__main__.Composite at 0x7ff0804421d0>,\n",
       " <__main__.Leaf at 0x7ff0804426d0>]"
      ]
     },
     "execution_count": 10,
     "metadata": {},
     "output_type": "execute_result"
    }
   ],
   "source": [
    "tree._children\n"
   ]
  },
  {
   "cell_type": "code",
   "execution_count": 11,
   "metadata": {},
   "outputs": [
    {
     "data": {
      "text/plain": [
       "[<__main__.Leaf at 0x7ff080442210>]"
      ]
     },
     "execution_count": 11,
     "metadata": {},
     "output_type": "execute_result"
    }
   ],
   "source": [
    "branch2._children"
   ]
  },
  {
   "cell_type": "code",
   "execution_count": 13,
   "metadata": {},
   "outputs": [
    {
     "ename": "AttributeError",
     "evalue": "'Composite' object has no attribute '__cls__'",
     "output_type": "error",
     "traceback": [
      "\u001b[0;31m---------------------------------------------------------------------------\u001b[0m",
      "\u001b[0;31mAttributeError\u001b[0m                            Traceback (most recent call last)",
      "\u001b[0;32m<ipython-input-13-125902e28cf7>\u001b[0m in \u001b[0;36m<module>\u001b[0;34m\u001b[0m\n\u001b[0;32m----> 1\u001b[0;31m \u001b[0mbranch2\u001b[0m\u001b[0;34m.\u001b[0m\u001b[0m__cls__\u001b[0m\u001b[0;34m(\u001b[0m\u001b[0;34m)\u001b[0m\u001b[0;34m\u001b[0m\u001b[0;34m\u001b[0m\u001b[0m\n\u001b[0m",
      "\u001b[0;31mAttributeError\u001b[0m: 'Composite' object has no attribute '__cls__'"
     ]
    }
   ],
   "source": [
    "branch2.__cls__()"
   ]
  },
  {
   "cell_type": "code",
   "execution_count": null,
   "metadata": {},
   "outputs": [],
   "source": []
  },
  {
   "cell_type": "raw",
   "metadata": {},
   "source": []
  }
 ],
 "metadata": {
  "kernelspec": {
   "display_name": "Python 3.8.2 64-bit",
   "language": "python",
   "name": "python38264bit7ff3f5804e9943b884b7805c0354889f"
  },
  "language_info": {
   "codemirror_mode": {
    "name": "ipython",
    "version": 3
   },
   "file_extension": ".py",
   "mimetype": "text/x-python",
   "name": "python",
   "nbconvert_exporter": "python",
   "pygments_lexer": "ipython3",
   "version": "3.8.2-final"
  }
 },
 "nbformat": 4,
 "nbformat_minor": 4
}