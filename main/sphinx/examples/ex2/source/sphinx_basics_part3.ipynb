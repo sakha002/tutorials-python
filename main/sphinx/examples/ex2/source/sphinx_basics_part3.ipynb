{
 "metadata": {
  "language_info": {
   "codemirror_mode": {
    "name": "ipython",
    "version": 3
   },
   "file_extension": ".py",
   "mimetype": "text/x-python",
   "name": "python",
   "nbconvert_exporter": "python",
   "pygments_lexer": "ipython3",
   "version": "3.8.5-final"
  },
  "orig_nbformat": 2,
  "kernelspec": {
   "name": "python38264bit7ff3f5804e9943b884b7805c0354889f",
   "display_name": "Python 3.8.2 64-bit",
   "language": "python"
  }
 },
 "nbformat": 4,
 "nbformat_minor": 2,
 "cells": [
  {
   "source": [
    "# Some Remanining Topics of Interest"
   ],
   "cell_type": "markdown",
   "metadata": {}
  },
  {
   "source": [
    "The basic goal I had was to find some easy way to make a good looking html page under python preferably.\n",
    "\n",
    "Here are what I wanted to look into still:\n",
    "\n",
    "    - well it apears that the tools you can make a page with are countless. I wanted to look into a few more that I had been exposed to so far and looked interesting:\n",
    "    - Before I knew that a lot of people were using thsi 'jemdoc' which is based on python.\n",
    "    - Jekyll is used by the Github. not sure if it is python based or else but seems not that hard to use it.\n",
    "    - I wanted to look into Mkdocs, and there was something like dochub, etc.\n",
    "    - I wanted to look into the material for sphinx which seemed like a nice looking theme. \n",
    "    - I wanted to see if there is a way to convert jupyter notebooks into a docs page.\n",
    "    - I saw this framework Hugo (The world’s fastest framework for building websites!) which I saw a good looking [example](https://jeanbilheux.pages.ornl.gov/) of it.\n",
    "\n",
    "\n",
    "\n",
    "so let's see which ones will be able to cover and when!"
   ],
   "cell_type": "markdown",
   "metadata": {}
  },
  {
   "source": [
    "## Convert jupyter notebook to html sphinx  "
   ],
   "cell_type": "markdown",
   "metadata": {}
  },
  {
   "source": [
    "So why to create a tutorial page in ipynb to begin with ?!\n",
    "\n",
    "Remember I am not a data scientist who love to work with notebooks!\n",
    "Okay so when I started to create a narrative of the issues I was facing in my work, well mainly to remember what I have done and what could do next, specially for that @dataclass puzzle. I thought it is a good way to share, and maybe just someday someone found it usefull, the same way I found so many of the post people share on internet usefull.\n",
    "\n",
    "The notebook allowed me not only test the python snipets but also I could test some of the shell commands I was doing, so was kinda of illustrating the process.\n",
    "Also I had seen before some books that were all jupyter notebooks and they were kinda cool!\n",
    "\n",
    "Then at some point I realized that some notebooks (specially on docker) are more markdowns and less of code blocks. so why not to create a page or markdown file all together. Then I thought okay why not convert the notebooks to pages (assuming you could and of course you can do anything)\n",
    "\n",
    "I also had camed acroos this tool [voila](https://voila.readthedocs.io/en/stable/index.html) which converts notebooks to interactive services (or something) which made me to get the idea. Also at some point I had this illusion planted in my mind that this would do very close to what I had in mind.\n",
    "\n",
    "Now lets get to it. what I want to do is to make my repos of tutorial stuff in notebooks and I want to make some linked doc page. Well pretty much the same stuff I was doing with Md files now only with ipynb."
   ],
   "cell_type": "markdown",
   "metadata": {}
  },
  {
   "source": [
    "## Jupyter Notebook Tools for Sphinxs\n"
   ],
   "cell_type": "markdown",
   "metadata": {}
  },
  {
   "source": [
    "okay I found these pages very relevant:\n",
    "\n",
    "https://nbsphinx.readthedocs.io/en/0.8.0/\n",
    "\n",
    "\n",
    "https://ipython.readthedocs.io/en/3.x/notebook/nbconvert.html\n",
    "\n",
    "\n",
    "https://jeanbilheux.pages.ornl.gov/post/convert_notebooks_to_html_pages/\n",
    "\n",
    "\n",
    "\n",
    "\n"
   ],
   "cell_type": "markdown",
   "metadata": {}
  },
  {
   "cell_type": "code",
   "execution_count": 2,
   "metadata": {},
   "outputs": [
    {
     "output_type": "stream",
     "name": "stdout",
     "text": [
      "Requirement already satisfied: nbconvert in /home/hossein/.local/lib/python3.8/site-packages (5.6.1)\n",
      "Requirement already satisfied: pandocfilters>=1.4.1 in /home/hossein/.local/lib/python3.8/site-packages (from nbconvert) (1.4.2)\n",
      "Requirement already satisfied: nbformat>=4.4 in /home/hossein/.local/lib/python3.8/site-packages (from nbconvert) (5.0.7)\n",
      "Requirement already satisfied: testpath in /home/hossein/.local/lib/python3.8/site-packages (from nbconvert) (0.4.4)\n",
      "Requirement already satisfied: jinja2>=2.4 in /home/hossein/.local/lib/python3.8/site-packages (from nbconvert) (2.11.2)\n",
      "Requirement already satisfied: defusedxml in /home/hossein/.local/lib/python3.8/site-packages (from nbconvert) (0.6.0)\n",
      "Requirement already satisfied: entrypoints>=0.2.2 in /usr/lib/python3/dist-packages (from nbconvert) (0.3)\n",
      "Requirement already satisfied: jupyter-core in /home/hossein/.local/lib/python3.8/site-packages (from nbconvert) (4.6.3)\n",
      "Requirement already satisfied: pygments in /usr/lib/python3/dist-packages (from nbconvert) (2.3.1)\n",
      "Requirement already satisfied: bleach in /home/hossein/.local/lib/python3.8/site-packages (from nbconvert) (3.1.5)\n",
      "Requirement already satisfied: mistune<2,>=0.8.1 in /home/hossein/.local/lib/python3.8/site-packages (from nbconvert) (0.8.4)\n",
      "Requirement already satisfied: traitlets>=4.2 in /usr/lib/python3/dist-packages (from nbconvert) (4.3.3)\n",
      "Requirement already satisfied: ipython-genutils in /usr/lib/python3/dist-packages (from nbformat>=4.4->nbconvert) (0.2.0)\n",
      "Requirement already satisfied: jsonschema!=2.5.0,>=2.4 in /home/hossein/.local/lib/python3.8/site-packages (from nbformat>=4.4->nbconvert) (3.2.0)\n",
      "Requirement already satisfied: MarkupSafe>=0.23 in /usr/lib/python3/dist-packages (from jinja2>=2.4->nbconvert) (1.1.0)\n",
      "Requirement already satisfied: six>=1.9.0 in /usr/lib/python3/dist-packages (from bleach->nbconvert) (1.14.0)\n",
      "Requirement already satisfied: packaging in /home/hossein/.local/lib/python3.8/site-packages (from bleach->nbconvert) (20.4)\n",
      "Requirement already satisfied: webencodings in /home/hossein/.local/lib/python3.8/site-packages (from bleach->nbconvert) (0.5.1)\n",
      "Requirement already satisfied: setuptools in /usr/lib/python3/dist-packages (from jsonschema!=2.5.0,>=2.4->nbformat>=4.4->nbconvert) (45.2.0)\n",
      "Requirement already satisfied: pyrsistent>=0.14.0 in /home/hossein/.local/lib/python3.8/site-packages (from jsonschema!=2.5.0,>=2.4->nbformat>=4.4->nbconvert) (0.16.0)\n",
      "Requirement already satisfied: attrs>=17.4.0 in /home/hossein/.local/lib/python3.8/site-packages (from jsonschema!=2.5.0,>=2.4->nbformat>=4.4->nbconvert) (20.1.0)\n",
      "Requirement already satisfied: pyparsing>=2.0.2 in /home/hossein/.local/lib/python3.8/site-packages (from packaging->bleach->nbconvert) (2.4.7)\n"
     ]
    }
   ],
   "source": [
    "!pip3 install nbconvert"
   ]
  },
  {
   "source": [
    "follow the steps in [here](https://nbsphinx.readthedocs.io/en/0.8.0/)\n",
    "\n",
    "huh, I actually installed the kinda wrong package!\n",
    "\n"
   ],
   "cell_type": "markdown",
   "metadata": {}
  },
  {
   "cell_type": "code",
   "execution_count": 3,
   "metadata": {},
   "outputs": [
    {
     "output_type": "stream",
     "name": "stdout",
     "text": [
      "Collecting nbsphinx\n",
      "  Downloading nbsphinx-0.8.0-py3-none-any.whl (24 kB)\n",
      "Requirement already satisfied: jinja2 in /home/hossein/.local/lib/python3.8/site-packages (from nbsphinx) (2.11.2)\n",
      "Requirement already satisfied: nbformat in /home/hossein/.local/lib/python3.8/site-packages (from nbsphinx) (5.0.7)\n",
      "Requirement already satisfied: sphinx>=1.8 in /home/hossein/.local/lib/python3.8/site-packages (from nbsphinx) (3.3.1)\n",
      "Requirement already satisfied: nbconvert!=5.4 in /home/hossein/.local/lib/python3.8/site-packages (from nbsphinx) (5.6.1)\n",
      "Requirement already satisfied: traitlets in /usr/lib/python3/dist-packages (from nbsphinx) (4.3.3)\n",
      "Requirement already satisfied: docutils in /home/hossein/.local/lib/python3.8/site-packages (from nbsphinx) (0.16)\n",
      "Requirement already satisfied: MarkupSafe>=0.23 in /usr/lib/python3/dist-packages (from jinja2->nbsphinx) (1.1.0)\n",
      "Requirement already satisfied: jsonschema!=2.5.0,>=2.4 in /home/hossein/.local/lib/python3.8/site-packages (from nbformat->nbsphinx) (3.2.0)\n",
      "Requirement already satisfied: ipython-genutils in /usr/lib/python3/dist-packages (from nbformat->nbsphinx) (0.2.0)\n",
      "Requirement already satisfied: jupyter-core in /home/hossein/.local/lib/python3.8/site-packages (from nbformat->nbsphinx) (4.6.3)\n",
      "Requirement already satisfied: imagesize in /home/hossein/.local/lib/python3.8/site-packages (from sphinx>=1.8->nbsphinx) (1.2.0)\n",
      "Requirement already satisfied: sphinxcontrib-applehelp in /home/hossein/.local/lib/python3.8/site-packages (from sphinx>=1.8->nbsphinx) (1.0.2)\n",
      "Requirement already satisfied: sphinxcontrib-serializinghtml in /home/hossein/.local/lib/python3.8/site-packages (from sphinx>=1.8->nbsphinx) (1.1.4)\n",
      "Requirement already satisfied: Pygments>=2.0 in /usr/lib/python3/dist-packages (from sphinx>=1.8->nbsphinx) (2.3.1)\n",
      "Requirement already satisfied: sphinxcontrib-devhelp in /home/hossein/.local/lib/python3.8/site-packages (from sphinx>=1.8->nbsphinx) (1.0.2)\n",
      "Requirement already satisfied: packaging in /home/hossein/.local/lib/python3.8/site-packages (from sphinx>=1.8->nbsphinx) (20.4)\n",
      "Requirement already satisfied: setuptools in /usr/lib/python3/dist-packages (from sphinx>=1.8->nbsphinx) (45.2.0)\n",
      "Requirement already satisfied: sphinxcontrib-qthelp in /home/hossein/.local/lib/python3.8/site-packages (from sphinx>=1.8->nbsphinx) (1.0.3)\n",
      "Requirement already satisfied: babel>=1.3 in /home/hossein/.local/lib/python3.8/site-packages (from sphinx>=1.8->nbsphinx) (2.9.0)\n",
      "Requirement already satisfied: snowballstemmer>=1.1 in /home/hossein/.local/lib/python3.8/site-packages (from sphinx>=1.8->nbsphinx) (2.0.0)\n",
      "Requirement already satisfied: requests>=2.5.0 in /usr/lib/python3/dist-packages (from sphinx>=1.8->nbsphinx) (2.22.0)\n",
      "Requirement already satisfied: alabaster<0.8,>=0.7 in /home/hossein/.local/lib/python3.8/site-packages (from sphinx>=1.8->nbsphinx) (0.7.12)\n",
      "Requirement already satisfied: sphinxcontrib-jsmath in /home/hossein/.local/lib/python3.8/site-packages (from sphinx>=1.8->nbsphinx) (1.0.1)\n",
      "Requirement already satisfied: sphinxcontrib-htmlhelp in /home/hossein/.local/lib/python3.8/site-packages (from sphinx>=1.8->nbsphinx) (1.0.3)\n",
      "Requirement already satisfied: mistune<2,>=0.8.1 in /home/hossein/.local/lib/python3.8/site-packages (from nbconvert!=5.4->nbsphinx) (0.8.4)\n",
      "Requirement already satisfied: entrypoints>=0.2.2 in /usr/lib/python3/dist-packages (from nbconvert!=5.4->nbsphinx) (0.3)\n",
      "Requirement already satisfied: testpath in /home/hossein/.local/lib/python3.8/site-packages (from nbconvert!=5.4->nbsphinx) (0.4.4)\n",
      "Requirement already satisfied: bleach in /home/hossein/.local/lib/python3.8/site-packages (from nbconvert!=5.4->nbsphinx) (3.1.5)\n",
      "Requirement already satisfied: pandocfilters>=1.4.1 in /home/hossein/.local/lib/python3.8/site-packages (from nbconvert!=5.4->nbsphinx) (1.4.2)\n",
      "Requirement already satisfied: defusedxml in /home/hossein/.local/lib/python3.8/site-packages (from nbconvert!=5.4->nbsphinx) (0.6.0)\n",
      "Requirement already satisfied: six>=1.11.0 in /usr/lib/python3/dist-packages (from jsonschema!=2.5.0,>=2.4->nbformat->nbsphinx) (1.14.0)\n",
      "Requirement already satisfied: pyrsistent>=0.14.0 in /home/hossein/.local/lib/python3.8/site-packages (from jsonschema!=2.5.0,>=2.4->nbformat->nbsphinx) (0.16.0)\n",
      "Requirement already satisfied: attrs>=17.4.0 in /home/hossein/.local/lib/python3.8/site-packages (from jsonschema!=2.5.0,>=2.4->nbformat->nbsphinx) (20.1.0)\n",
      "Requirement already satisfied: pyparsing>=2.0.2 in /home/hossein/.local/lib/python3.8/site-packages (from packaging->sphinx>=1.8->nbsphinx) (2.4.7)\n",
      "Requirement already satisfied: pytz>=2015.7 in /usr/lib/python3/dist-packages (from babel>=1.3->sphinx>=1.8->nbsphinx) (2019.3)\n",
      "Requirement already satisfied: webencodings in /home/hossein/.local/lib/python3.8/site-packages (from bleach->nbconvert!=5.4->nbsphinx) (0.5.1)\n",
      "Installing collected packages: nbsphinx\n",
      "Successfully installed nbsphinx-0.8.0\n"
     ]
    }
   ],
   "source": [
    "!pip3 install nbsphinx"
   ]
  },
  {
   "source": [
    "I put this in the index.rst\n",
    "\n",
    "```\n",
    "   ../../sphinx_basics_part3.ipynb\n",
    "```\n",
    "\n",
    "okay so getting this error:\n",
    "\n",
    "```                                    \n",
    "/media/hossein/HDD/gdrive/SkillsLearningTraining/tutorials-python/main/sphinx/example_three/source/index.rst:9: WARNING: toctree contains reference to nonexisting document 'sphinx_basics_part3'\n",
    "```\n",
    "\n",
    "well, no surprize, I could not refer to outside the toctree root, like I did for md files.\n",
    "So let's try with a notebook in the repo, I copy this notebook in the example folder.\n",
    "```\n",
    "loading pickled environment... done\n",
    "building [mo]: targets for 0 po files that are out of date\n",
    "building [html]: targets for 1 source files that are out of date\n",
    "updating environment: 1 added, 1 changed, 0 removed\n",
    "reading sources... [100%] sphinx_basics_part3                                                                                                                   \n",
    "Notebook error:\n",
    "PandocMissing in sphinx_basics_part3.ipynb:\n",
    "Pandoc wasn't found.\n",
    "Please check that pandoc is installed:\n",
    "http://pandoc.org/installing.html\n",
    "```\n",
    "\n",
    "\n",
    "okay I need to install pandoc!\n"
   ],
   "cell_type": "markdown",
   "metadata": {}
  },
  {
   "cell_type": "code",
   "execution_count": 4,
   "metadata": {},
   "outputs": [
    {
     "output_type": "stream",
     "name": "stdout",
     "text": [
      "Collecting pandoc\n",
      "  Downloading pandoc-1.0.2.tar.gz (488 kB)\n",
      "\u001b[K     |████████████████████████████████| 488 kB 3.1 MB/s \n",
      "\u001b[?25hCollecting ply\n",
      "  Downloading ply-3.11-py2.py3-none-any.whl (49 kB)\n",
      "\u001b[K     |████████████████████████████████| 49 kB 4.3 MB/s \n",
      "\u001b[?25hBuilding wheels for collected packages: pandoc\n",
      "  Building wheel for pandoc (setup.py) ... \u001b[?25ldone\n",
      "\u001b[?25h  Created wheel for pandoc: filename=pandoc-1.0.2-py3-none-any.whl size=19991 sha256=883468ef50563d4287f57054941838cb3f36faa44d1f77ada3d6f67caa37612e\n",
      "  Stored in directory: /home/hossein/.cache/pip/wheels/a4/b9/34/3e82b9444401c2199d721240a388499a262d2e2ad37f6f3fa7\n",
      "Successfully built pandoc\n",
      "Installing collected packages: ply, pandoc\n",
      "Successfully installed pandoc-1.0.2 ply-3.11\n"
     ]
    }
   ],
   "source": [
    "! pip3 install pandoc"
   ]
  },
  {
   "cell_type": "code",
   "execution_count": 5,
   "metadata": {},
   "outputs": [
    {
     "output_type": "stream",
     "name": "stdout",
     "text": [
      "example_one    example_two\t\t  sphinx_basics_part2.ipynb\nexample_three  sphinx_basics_part1.ipynb  sphinx_basics_part3.ipynb\n"
     ]
    }
   ],
   "source": [
    "!ls"
   ]
  },
  {
   "cell_type": "code",
   "execution_count": 6,
   "metadata": {},
   "outputs": [
    {
     "output_type": "stream",
     "name": "stdout",
     "text": [
      "/media/hossein/HDD/gdrive/SkillsLearningTraining/tutorials-python/main/sphinx/example_three\n"
     ]
    }
   ],
   "source": [
    "%cd example_three/"
   ]
  },
  {
   "cell_type": "code",
   "execution_count": 7,
   "metadata": {},
   "outputs": [
    {
     "output_type": "stream",
     "name": "stdout",
     "text": [
      "\u001b[01mRunning Sphinx v3.3.1\u001b[39;49;00m\n",
      "\u001b[01mbuilding [mo]: \u001b[39;49;00mtargets for 0 po files that are out of date\n",
      "\u001b[01mbuilding [html]: \u001b[39;49;00mtargets for 2 source files that are out of date\n",
      "\u001b[01mupdating environment: \u001b[39;49;00m[new config] 2 added, 0 changed, 0 removed\n",
      "\n",
      "\u001b[91mNotebook error:\u001b[39;49;00m\n",
      "PandocMissing in sphinx_basics_part3.ipynb:\n",
      "Pandoc wasn't found.\n",
      "Please check that pandoc is installed:\n",
      "http://pandoc.org/installing.html\n",
      "make: *** [Makefile:20: html] Error 2\n"
     ]
    }
   ],
   "source": [
    "!make html"
   ]
  },
  {
   "cell_type": "code",
   "execution_count": 8,
   "metadata": {},
   "outputs": [
    {
     "output_type": "stream",
     "name": "stdout",
     "text": [
      "Name: pandoc\nVersion: 1.0.2\nSummary: Pandoc Documents for Python\nHome-page: https://github.com/boisgera/pandoc\nAuthor: Sébastien Boisgérault\nAuthor-email: Sebastien.Boisgerault@mines-paristech.fr\nLicense: MIT License\nLocation: /home/hossein/.local/lib/python3.8/site-packages\nRequires: ply\nRequired-by: \n"
     ]
    }
   ],
   "source": [
    "!pip3 show pandoc"
   ]
  },
  {
   "source": [
    "hmm I thought I did install it?! looking further in \n",
    "\n",
    "https://nbsphinx.readthedocs.io/en/0.8.0/installation.html\n",
    "\n",
    "seems that the pandoc is not supposed to be installed with pip, refers to [here](https://pandoc.org/installing.html),\n",
    "\n",
    "which is more confusing, so I search into [here](https://dev.to/psnebc/sudo-apt-get-install-pandoc-34m)\n",
    "\n",
    "So I install it with 'apt-get'.\n",
    "```\n",
    "\n",
    "sudo apt-get install pandoc\n",
    "```\n"
   ],
   "cell_type": "markdown",
   "metadata": {}
  },
  {
   "cell_type": "code",
   "execution_count": 2,
   "metadata": {},
   "outputs": [
    {
     "output_type": "stream",
     "name": "stdout",
     "text": [
      "example_one    example_two\t\t  sphinx_basics_part2.ipynb\nexample_three  sphinx_basics_part1.ipynb  sphinx_basics_part3.ipynb\n"
     ]
    }
   ],
   "source": [
    "!ls"
   ]
  },
  {
   "cell_type": "code",
   "execution_count": 3,
   "metadata": {},
   "outputs": [
    {
     "output_type": "stream",
     "name": "stdout",
     "text": [
      "/media/hossein/HDD/gdrive/SkillsLearningTraining/tutorials-python/main/sphinx/example_three\n"
     ]
    }
   ],
   "source": [
    "%cd example_three/"
   ]
  },
  {
   "cell_type": "code",
   "execution_count": 4,
   "metadata": {},
   "outputs": [
    {
     "output_type": "stream",
     "name": "stdout",
     "text": [
      "\u001b[01mRunning Sphinx v3.3.1\u001b[39;49;00m\n",
      "\u001b[01mbuilding [mo]: \u001b[39;49;00mtargets for 0 po files that are out of date\n",
      "\u001b[01mbuilding [html]: \u001b[39;49;00mtargets for 2 source files that are out of date\n",
      "\u001b[01mupdating environment: \u001b[39;49;00m[new config] 2 added, 0 changed, 0 removed\n",
      "\n",
      "\u001b[01mlooking for now-outdated files... \u001b[39;49;00mnone found\n",
      "\u001b[01mpickling environment... \u001b[39;49;00mdone\n",
      "\u001b[01mchecking consistency... \u001b[39;49;00mdone\n",
      "\u001b[01mpreparing documents... \u001b[39;49;00mdone\n",
      "\n",
      "\u001b[01mgenerating indices... \u001b[39;49;00mgenindex done\n",
      "\n",
      "\u001b[01mwriting additional pages... \u001b[39;49;00msearch done\n",
      "\u001b[01mcopying static files... \u001b[39;49;00mdone\n",
      "\u001b[01mcopying extra files... \u001b[39;49;00mdone\n",
      "\u001b[01mdumping search index in English (code: en)... \u001b[39;49;00mdone\n",
      "\u001b[01mdumping object inventory... \u001b[39;49;00mdone\n",
      "\u001b[01mbuild succeeded.\u001b[39;49;00m\n",
      "\n",
      "The HTML pages are in build/html.\n"
     ]
    }
   ],
   "source": [
    "!make html"
   ]
  },
  {
   "source": [
    "And it works! oh well still a very basic and ugly page!\n",
    "\n",
    "\n",
    "https://github.com/spatialaudio/nbsphinx/blob/0.8.0/doc/installation.ipynb\n",
    "\n"
   ],
   "cell_type": "markdown",
   "metadata": {}
  }
 ]
}