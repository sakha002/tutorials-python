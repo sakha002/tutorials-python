{
 "cells": [
  {
   "cell_type": "code",
   "execution_count": 1,
   "metadata": {},
   "outputs": [],
   "source": [
    "class StandardClass(object):\n",
    "    def __init__(self, x):\n",
    "        self.x = x\n",
    "        \n",
    "        \n",
    "        "
   ]
  },
  {
   "cell_type": "code",
   "execution_count": 2,
   "metadata": {},
   "outputs": [
    {
     "data": {
      "text/plain": [
       "True"
      ]
     },
     "execution_count": 2,
     "metadata": {},
     "output_type": "execute_result"
    }
   ],
   "source": [
    "standard = StandardClass(5)\n",
    "standard.x == 5"
   ]
  },
  {
   "cell_type": "code",
   "execution_count": 6,
   "metadata": {},
   "outputs": [
    {
     "data": {
      "text/plain": [
       "True"
      ]
     },
     "execution_count": 6,
     "metadata": {},
     "output_type": "execute_result"
    }
   ],
   "source": [
    "# New Step\n",
    "newed_up_standard = object.__new__(StandardClass)\n",
    "type(newed_up_standard) is StandardClass\n",
    "hasattr(newed_up_standard,'x') is False\n",
    "\n",
    "# Constructor Step\n",
    "StandardClass.__init__(newed_up_standard, 5)\n",
    "newed_up_standard.x == 5"
   ]
  },
  {
   "cell_type": "code",
   "execution_count": 7,
   "metadata": {},
   "outputs": [
    {
     "data": {
      "text/plain": [
       "True"
      ]
     },
     "execution_count": 7,
     "metadata": {},
     "output_type": "execute_result"
    }
   ],
   "source": [
    "class NewedBaseCheck(object):\n",
    "    def __new__(cls):\n",
    "        obj = super(NewedBaseCheck,cls).__new__(cls)\n",
    "        obj._from_base_class = type(obj) == NewedBaseCheck\n",
    "        return obj\n",
    "    def __init__(self):\n",
    "        self.x = 5\n",
    "\n",
    "newed = NewedBaseCheck()\n",
    "newed.x == 5\n",
    "newed._from_base_class is True"
   ]
  },
  {
   "cell_type": "code",
   "execution_count": 11,
   "metadata": {},
   "outputs": [
    {
     "data": {
      "text/plain": [
       "True"
      ]
     },
     "execution_count": 11,
     "metadata": {},
     "output_type": "execute_result"
    }
   ],
   "source": [
    "class StandardBaseCheck(object):\n",
    "    def __init__(self):\n",
    "        self.x = 5\n",
    "        self._from_base_class = type(self) == StandardBaseCheck\n",
    "\n",
    "standard_base_check = StandardBaseCheck()\n",
    "standard_base_check.x == 5\n",
    "standard_base_check._from_base_class is True"
   ]
  },
  {
   "cell_type": "code",
   "execution_count": 13,
   "metadata": {},
   "outputs": [
    {
     "data": {
      "text/plain": [
       "True"
      ]
     },
     "execution_count": 13,
     "metadata": {},
     "output_type": "execute_result"
    }
   ],
   "source": [
    "class SubNewedBaseCheck(NewedBaseCheck):\n",
    "    def __init__(self):\n",
    "        self.x = 9\n",
    "\n",
    "subnewed = SubNewedBaseCheck()\n",
    "subnewed.x == 9\n",
    "subnewed._from_base_class is False\n",
    "\n",
    "class SubStandardBaseCheck(StandardBaseCheck):\n",
    "    def __init__(self):\n",
    "        self.x = 9\n",
    "\n",
    "substandard_base_check = SubStandardBaseCheck()\n",
    "substandard_base_check.x == 9\n",
    "hasattr(substandard_base_check,\"_from_base_class\") is False"
   ]
  },
  {
   "cell_type": "raw",
   "metadata": {},
   "source": [
    "Because we failed to call super(...).__init__ in the constructors, _from_base_class is never set."
   ]
  },
  {
   "cell_type": "code",
   "execution_count": 15,
   "metadata": {},
   "outputs": [
    {
     "name": "stdout",
     "output_type": "stream",
     "text": [
      "True\n"
     ]
    }
   ],
   "source": [
    "class NewedBaseCheck(object):\n",
    "    def __new__(cls):\n",
    "        obj = super(NewedBaseCheck,cls).__new__(cls)\n",
    "        obj._from_base_class = type(obj) == NewedBaseCheck\n",
    "        return obj\n",
    "\n",
    "    def __init__(self, x):\n",
    "        self.x = x\n",
    "\n",
    "try:\n",
    "    NewedBaseCheck(5)\n",
    "except TypeError:\n",
    "    print (True)"
   ]
  },
  {
   "cell_type": "code",
   "execution_count": 16,
   "metadata": {},
   "outputs": [
    {
     "data": {
      "text/plain": [
       "True"
      ]
     },
     "execution_count": 16,
     "metadata": {},
     "output_type": "execute_result"
    }
   ],
   "source": [
    "class NewedBaseCheck(object):\n",
    "    def __new__(cls, x):\n",
    "        obj = super(NewedBaseCheck,cls).__new__(cls)\n",
    "        obj._from_base_class = type(obj) == NewedBaseCheck\n",
    "        return obj\n",
    "\n",
    "    def __init__(self, x):\n",
    "        self.x = x\n",
    "\n",
    "newed = NewedBaseCheck(5)\n",
    "newed.x == 5"
   ]
  },
  {
   "cell_type": "code",
   "execution_count": 18,
   "metadata": {},
   "outputs": [
    {
     "name": "stdout",
     "output_type": "stream",
     "text": [
      "True\n"
     ]
    }
   ],
   "source": [
    "class SubNewedBaseCheck(NewedBaseCheck):\n",
    "    def __init__(self, x, y):\n",
    "        self.x = x\n",
    "        self.y = y\n",
    "\n",
    "try:\n",
    "    SubNewedBaseCheck(5,6)\n",
    "except TypeError:\n",
    "    print (True)"
   ]
  },
  {
   "cell_type": "code",
   "execution_count": 20,
   "metadata": {},
   "outputs": [
    {
     "data": {
      "text/plain": [
       "True"
      ]
     },
     "execution_count": 20,
     "metadata": {},
     "output_type": "execute_result"
    }
   ],
   "source": [
    "class NewedBaseCheck(object):\n",
    "    def __new__(cls, *args, **kwargs):\n",
    "        obj = super(NewedBaseCheck,cls).__new__(cls)\n",
    "        obj._from_base_class = type(obj) == NewedBaseCheck\n",
    "        return obj\n",
    "\n",
    "    def __init__(self, x):\n",
    "        self.x = x\n",
    "        \n",
    "class SubNewedBaseCheck(NewedBaseCheck):\n",
    "    def __init__(self, x, y):\n",
    "        self.x = x\n",
    "        self.y = y\n",
    "\n",
    "try:\n",
    "    SubNewedBaseCheck(5,6)\n",
    "except TypeError:\n",
    "    print (True)\n",
    "    \n",
    "\n",
    "newed = NewedBaseCheck(5)\n",
    "newed.x == 5\n",
    "\n",
    "subnewed = SubNewedBaseCheck(5,6)\n",
    "subnewed.x == 5\n",
    "subnewed.y == 6\n",
    "\n",
    "\n",
    "\n",
    "\n"
   ]
  },
  {
   "cell_type": "code",
   "execution_count": 22,
   "metadata": {},
   "outputs": [
    {
     "data": {
      "text/plain": [
       "True"
      ]
     },
     "execution_count": 22,
     "metadata": {},
     "output_type": "execute_result"
    }
   ],
   "source": [
    "def instantiate(cls, *args, **kwargs):\n",
    "    obj = cls.__new__(cls, *args, **kwargs)\n",
    "    if isinstance(obj,cls):\n",
    "        cls.__init__(obj, *args, **kwargs)\n",
    "    return obj\n",
    "\n",
    "newed = instantiate(NewedBaseCheck, 5)\n",
    "type(newed) == NewedBaseCheck\n",
    "newed.x == 5"
   ]
  },
  {
   "cell_type": "raw",
   "metadata": {},
   "source": [
    "https://realpython.com/python-metaclasses/"
   ]
  }
 ],
 "metadata": {
  "kernelspec": {
   "display_name": "Python 3.7.5 64-bit",
   "language": "python",
   "name": "python37564bitc35f7abf7e75487b93dfebbb541d5b8d"
  },
  "language_info": {
   "codemirror_mode": {
    "name": "ipython",
    "version": 3
   },
   "file_extension": ".py",
   "mimetype": "text/x-python",
   "name": "python",
   "nbconvert_exporter": "python",
   "pygments_lexer": "ipython3",
   "version": "3.7.5"
  }
 },
 "nbformat": 4,
 "nbformat_minor": 4
}
