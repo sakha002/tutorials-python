{
 "metadata": {
  "language_info": {
   "codemirror_mode": {
    "name": "ipython",
    "version": 3
   },
   "file_extension": ".py",
   "mimetype": "text/x-python",
   "name": "python",
   "nbconvert_exporter": "python",
   "pygments_lexer": "ipython3",
   "version": 3
  },
  "orig_nbformat": 2
 },
 "nbformat": 4,
 "nbformat_minor": 2,
 "cells": [
  {
   "source": [
    "# Working with Data Classes - part 3"
   ],
   "cell_type": "markdown",
   "metadata": {}
  },
  {
   "source": [
    "SO I had more issues with data classes, I found a few nice threads I am putting here for reference:\n",
    "\n",
    "https://stackoverflow.com/questions/55099243/python3-dataclass-with-kwargsasterisk\n",
    "\n",
    "\n",
    "https://towardsdatascience.com/12-examples-of-how-to-write-better-code-using-dataclass-d7c121ee0239\n",
    "\n",
    "https://realpython.com/python-data-classes/\n",
    "\n",
    "\n",
    "Now the question I had was this:\n",
    "\n",
    "I know @dataclass is good to make code cleaner by avoiding repeating arguments that are placed as atributes.\n",
    "So any argument or object we pass when instantiating a @dataclass becomes atributes?\n",
    "or is it there another way? what about the case where you pass an argument to the Init that is used to instantiate a child object/atrib.\n",
    "the answers in the first one kinda of related to this, for example when you instantiate an object with kwargs.\n",
    "I guess there is need for more playtime with these issues.  did not find many good fits.\n",
    "I guess one thing that comes to me  again and again is that  maybe the @dataclass is not the answer more often than it should."
   ],
   "cell_type": "markdown",
   "metadata": {}
  }
 ]
}