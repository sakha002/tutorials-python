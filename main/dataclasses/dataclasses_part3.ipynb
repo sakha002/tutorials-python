{
 "cells": [
  {
   "cell_type": "markdown",
   "metadata": {},
   "source": [
    "# Working with Data Classes - part 3"
   ]
  },
  {
   "cell_type": "markdown",
   "metadata": {},
   "source": [
    "SO I had more issues with data classes, I found a few nice threads I am putting here for reference:\n",
    "\n",
    "https://stackoverflow.com/questions/55099243/python3-dataclass-with-kwargsasterisk\n",
    "\n",
    "\n",
    "https://towardsdatascience.com/12-examples-of-how-to-write-better-code-using-dataclass-d7c121ee0239\n",
    "\n",
    "https://realpython.com/python-data-classes/\n",
    "\n",
    "\n",
    "Now the question I had was this:\n",
    "\n",
    "I know @dataclass is good to make code cleaner by avoiding repeating arguments that are placed as atributes.\n",
    "So any argument or object we pass when instantiating a @dataclass becomes atributes?\n",
    "or is it there another way? what about the case where you pass an argument to the Init that is used to instantiate a child object/atrib.\n",
    "the answers in the first one kinda of related to this, for example when you instantiate an object with kwargs.\n",
    "I guess there is need for more playtime with these issues.  did not find many good fits.\n",
    "I guess one thing that comes to me  again and again is that  maybe the @dataclass is not the answer more often than it should."
   ]
  },
  {
   "cell_type": "code",
   "execution_count": 10,
   "metadata": {},
   "outputs": [],
   "source": [
    "from dataclasses import dataclass, field\n",
    "from abc import ABC, abstractmethod\n",
    "from typing import List\n",
    "\n",
    "@dataclass\n",
    "class Component(ABC):\n",
    "\n",
    "    def __post_init__(self) -> None:\n",
    "        return\n",
    "        \n",
    "\n",
    "    @property\n",
    "    def parent(self) -> 'Component':\n",
    "        return self._parent\n",
    "\n",
    "    @parent.setter\n",
    "    def parent(self, parent):\n",
    "        self._parent = parent\n",
    "\n",
    "  \n",
    "\n",
    "@dataclass   \n",
    "class Composite(Component):\n",
    "\n",
    "    def __post_init__(self) -> None:\n",
    "        super().__post_init__()\n",
    "        self._children: List[Component] = []\n",
    "\n",
    "\n",
    "    def add(self, component: Component) -> None:\n",
    "        self._children.append(component)\n",
    "        component.parent = self\n",
    "\n",
    "        \n"
   ]
  },
  {
   "cell_type": "code",
   "execution_count": 12,
   "metadata": {},
   "outputs": [
    {
     "name": "stdout",
     "output_type": "stream",
     "text": [
      "Composite()\n",
      "[Composite()]\n"
     ]
    }
   ],
   "source": [
    "composite_obj_one= Composite()\n",
    "composite_obj_one._children\n",
    "\n",
    "composite_obj_two=Composite()\n",
    "composite_obj_two.add(composite_obj_one)\n",
    "print(composite_obj_one.parent)\n",
    "\n",
    "print(composite_obj_two._children)"
   ]
  },
  {
   "cell_type": "code",
   "execution_count": 16,
   "metadata": {},
   "outputs": [],
   "source": [
    "from typing import Any\n",
    "\n",
    "def from_float(x: Any) -> float:\n",
    "    assert isinstance(x, (float, int)) and not isinstance(x, bool)\n",
    "    return float(x)\n",
    "\n",
    "@dataclass\n",
    "class Settings(Composite):\n",
    "    horizon_length: float\n",
    "    interval_length: float\n",
    "    \n",
    "    \n",
    "    \n",
    "    def __post_init__(self):\n",
    "        \n",
    "        # self.horizon_length=horizon_length\n",
    "        # self.interval_length=interval_length\n",
    "        super().__post_init__()\n",
    "        return\n",
    "\n",
    "    @staticmethod\n",
    "    def from_dict(obj: Any) -> 'Settings':\n",
    "        assert isinstance(obj, dict)\n",
    "        horizon_length = from_float(obj.get(\"horizon_length\"))\n",
    "        interval_length = from_float(obj.get(\"interval_length\"))\n",
    "        return Settings(horizon_length, interval_length)\n",
    "\n",
    "@dataclass\n",
    "class OptopyInput(Composite):\n",
    "    settings: Settings\n",
    "        \n",
    "    def __post_init__(self):\n",
    "        \n",
    "        # self.settings=settings\n",
    "        super().__post_init__()\n",
    "    \n",
    "\n",
    "    @staticmethod\n",
    "    def from_dict(obj: Any) -> 'OptopyInput':\n",
    "        assert isinstance(obj, dict)\n",
    "        settings = Settings.from_dict(obj.get(\"settings\"))\n",
    "        \n",
    "        return OptopyInput(settings)"
   ]
  },
  {
   "cell_type": "code",
   "execution_count": 18,
   "metadata": {},
   "outputs": [],
   "source": [
    "\n",
    "optopy_inputs={\n",
    "    \"settings\": {\n",
    "      \"horizon_length\": 24.0,\n",
    "      \"interval_length\": 0.25,\n",
    "     \n",
    "    },\n",
    "}\n",
    "\n",
    "\n",
    "data_obj = OptopyInput.from_dict(optopy_inputs)"
   ]
  },
  {
   "cell_type": "markdown",
   "metadata": {},
   "source": [
    "now looks like if we do not place any arguments(atribs) in the base class, and add all the arguments in post init then the problem will be resolved.\n",
    "But what if we wanted to have the parent class to be regular class and not data class, what if we wanted to have the inheriting class to be regular."
   ]
  }
 ],
 "metadata": {
  "interpreter": {
   "hash": "31f2aee4e71d21fbe5cf8b01ff0e069b9275f58929596ceb00d14d90e3e16cd6"
  },
  "kernelspec": {
   "display_name": "Python 3.8.2 64-bit",
   "name": "python3"
  },
  "language_info": {
   "codemirror_mode": {
    "name": "ipython",
    "version": 3
   },
   "file_extension": ".py",
   "mimetype": "text/x-python",
   "name": "python",
   "nbconvert_exporter": "python",
   "pygments_lexer": "ipython3",
   "version": "3.8.2"
  },
  "orig_nbformat": 2
 },
 "nbformat": 4,
 "nbformat_minor": 2
}