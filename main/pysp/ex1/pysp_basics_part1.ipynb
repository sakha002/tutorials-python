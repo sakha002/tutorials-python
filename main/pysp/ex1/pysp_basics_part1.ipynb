{
 "cells": [
  {
   "cell_type": "code",
   "execution_count": 2,
   "metadata": {},
   "outputs": [],
   "source": [
    "import pyomo.pysp.util.rapper as rapper\n",
    "import pyomo.pysp.plugins.csvsolutionwriter as csvw\n",
    "from pyomo.pysp.scenariotree.tree_structure_model import CreateAbstractScenarioTreeModel\n",
    "import pyomo.environ as pyo"
   ]
  },
  {
   "cell_type": "code",
   "execution_count": 3,
   "metadata": {},
   "outputs": [],
   "source": [
    "solvername ='glpk'"
   ]
  },
  {
   "cell_type": "code",
   "execution_count": 4,
   "metadata": {},
   "outputs": [],
   "source": [
    "abstract_tree = CreateAbstractScenarioTreeModel()"
   ]
  },
  {
   "cell_type": "code",
   "execution_count": 5,
   "metadata": {},
   "outputs": [],
   "source": [
    "concrete_tree = \\\n",
    "    abstract_tree.create_instance(\"ScenarioStructure.dat\")"
   ]
  },
  {
   "cell_type": "code",
   "execution_count": 6,
   "metadata": {},
   "outputs": [],
   "source": [
    "stsolver = rapper.StochSolver(\"ReferenceModel.py\",\n",
    "           tree_model = concrete_tree)"
   ]
  },
  {
   "cell_type": "code",
   "execution_count": 7,
   "metadata": {},
   "outputs": [],
   "source": [
    "ef_sol = stsolver.solve_ef(solvername) \n"
   ]
  },
  {
   "cell_type": "code",
   "execution_count": 8,
   "metadata": {},
   "outputs": [],
   "source": [
    "if ef_sol.solver.termination_condition != pyo.TerminationCondition.optimal: \n",
    "    print (\"oops! not optimal:\",ef_sol.solver.termination_condition) \n"
   ]
  },
  {
   "cell_type": "code",
   "execution_count": 9,
   "metadata": {},
   "outputs": [
    {
     "name": "stdout",
     "output_type": "stream",
     "text": [
      "DevotedAcreage[CORN] 80.0\n",
      "DevotedAcreage[SUGAR_BEETS] 250.0\n",
      "DevotedAcreage[WHEAT] 170.0\n"
     ]
    }
   ],
   "source": [
    "for varname, varval in stsolver.root_Var_solution(): \n",
    "   print (varname, str(varval)) "
   ]
  },
  {
   "cell_type": "code",
   "execution_count": 10,
   "metadata": {},
   "outputs": [
    {
     "name": "stdout",
     "output_type": "stream",
     "text": [
      "Expecatation take over scenarios= -108390.00000959996\n"
     ]
    }
   ],
   "source": [
    "obj = stsolver.root_E_obj() \n",
    "print (\"Expecatation take over scenarios=\", obj)"
   ]
  },
  {
   "cell_type": "code",
   "execution_count": 11,
   "metadata": {},
   "outputs": [
    {
     "name": "stdout",
     "output_type": "stream",
     "text": [
      "Scenario tree solution written to file=testcref.csv\n",
      "Scenario stage costs written to file=testcref_StageCostDetail.csv\n"
     ]
    }
   ],
   "source": [
    "csvw.write_csv_soln(stsolver.scenario_tree, \"testcref\") \n"
   ]
  },
  {
   "cell_type": "code",
   "execution_count": 17,
   "metadata": {},
   "outputs": [],
   "source": [
    "sopts = {\"mipgap\": 1} # I want a gap"
   ]
  },
  {
   "cell_type": "code",
   "execution_count": 18,
   "metadata": {},
   "outputs": [],
   "source": [
    "stsolver = rapper.StochSolver(\"ReferenceModel.py\", \n",
    "           tree_model = concrete_tree) "
   ]
  },
  {
   "cell_type": "code",
   "execution_count": 19,
   "metadata": {},
   "outputs": [
    {
     "name": "stdout",
     "output_type": "stream",
     "text": [
      "GLPSOL--GLPK LP/MIP Solver 5.0\n",
      "Parameter(s) specified in the command line:\n",
      " --mipgap 1 --write /var/folders/qv/0vm84yqd7838_bq7wlgkk8qr0000gr/T/tmpk_1jp11i.glpk.raw\n",
      " --wglp /var/folders/qv/0vm84yqd7838_bq7wlgkk8qr0000gr/T/tmpej02cp4t.glpk.glp\n",
      " --cpxlp /var/folders/qv/0vm84yqd7838_bq7wlgkk8qr0000gr/T/tmpipexex_g.pyomo.lp\n",
      "Reading problem data from '/var/folders/qv/0vm84yqd7838_bq7wlgkk8qr0000gr/T/tmpipexex_g.pyomo.lp'...\n",
      "49 rows, 40 columns, 109 non-zeros\n",
      "333 lines were read\n",
      "Writing problem data to '/var/folders/qv/0vm84yqd7838_bq7wlgkk8qr0000gr/T/tmpej02cp4t.glpk.glp'...\n",
      "283 lines were written\n",
      "GLPK Simplex Optimizer 5.0\n",
      "49 rows, 40 columns, 109 non-zeros\n",
      "Preprocessing...\n",
      "30 rows, 39 columns, 90 non-zeros\n",
      "Scaling...\n",
      " A: min|aij| =  1.000e+00  max|aij| =  2.400e+01  ratio =  2.400e+01\n",
      "GM: min|aij| =  8.930e-01  max|aij| =  1.120e+00  ratio =  1.254e+00\n",
      "EQ: min|aij| =  7.994e-01  max|aij| =  1.000e+00  ratio =  1.251e+00\n",
      "Constructing initial basis...\n",
      "Size of triangular part is 30\n",
      "      0: obj =   0.000000000e+00 inf =   7.224e+02 (6)\n",
      "      6: obj =   3.693333327e+04 inf =   0.000e+00 (0)\n",
      "*    14: obj =  -1.083900000e+05 inf =   4.832e-13 (0)\n",
      "OPTIMAL LP SOLUTION FOUND\n",
      "Time used:   0.0 secs\n",
      "Memory used: 0.1 Mb (79339 bytes)\n",
      "Writing basic solution to '/var/folders/qv/0vm84yqd7838_bq7wlgkk8qr0000gr/T/tmpk_1jp11i.glpk.raw'...\n",
      "98 lines were written\n",
      "ef gap= 0.0\n"
     ]
    }
   ],
   "source": [
    "res, gap = stsolver.solve_ef(solvername, sopts = sopts, tee=True, need_gap = True) \n",
    "print (\"ef gap=\",gap) "
   ]
  },
  {
   "cell_type": "code",
   "execution_count": 20,
   "metadata": {},
   "outputs": [],
   "source": [
    "sopts = {}\n",
    "sopts['threads'] = 2\n",
    "phopts = {}\n",
    "phopts['--output-solver-log'] = None\n",
    "phopts['--max-iterations'] = '3'"
   ]
  },
  {
   "cell_type": "code",
   "execution_count": 21,
   "metadata": {},
   "outputs": [],
   "source": [
    "stsolver = rapper.StochSolver(\"ReferenceModel.py\",\n",
    "                              tree_model = concrete_tree,\n",
    "                              phopts = phopts)"
   ]
  },
  {
   "cell_type": "code",
   "execution_count": 23,
   "metadata": {},
   "outputs": [],
   "source": [
    "# ph = stsolver.solve_ph(subsolver = solvername, default_rho = 1, \n",
    "#                        phopts=phopts) \n",
    "\n",
    "## glpk would not be able to handle the progressive hedging solution method since it requires ability for solving quadraticss"
   ]
  }
 ],
 "metadata": {
  "interpreter": {
   "hash": "b7891c97950db643a469527d03f291aca4b0161ce93a86487042a530769d5903"
  },
  "kernelspec": {
   "display_name": "Python 3.9.5 64-bit ('.venv-pysp': venv)",
   "name": "python3"
  },
  "language_info": {
   "codemirror_mode": {
    "name": "ipython",
    "version": 3
   },
   "file_extension": ".py",
   "mimetype": "text/x-python",
   "name": "python",
   "nbconvert_exporter": "python",
   "pygments_lexer": "ipython3",
   "version": "3.9.5"
  },
  "orig_nbformat": 4
 },
 "nbformat": 4,
 "nbformat_minor": 2
}
