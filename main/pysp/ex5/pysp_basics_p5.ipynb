{
 "cells": [
  {
   "cell_type": "markdown",
   "metadata": {},
   "source": [
    "classpysp.util.rapper.StochSolver(fsfile, fsfct=None, tree_model=None, phopts=None)\n",
    "\n",
    "fsfile (str) – \n",
    "    is a path to the file that contains\n",
    "    the scenario callback for concrete or\n",
    "    the reference model for abstract.\n",
    "\n",
    "fsfct (str, or fct, or None) –\n",
    "    str: callback function name in the file\n",
    "    fct: callback function (fsfile is ignored)\n",
    "    None: it is a AbstractModel\n",
    "\n",
    "tree_model (concrete model, or networkx tree, or path) – \n",
    "    gives the tree as a \n",
    "        concrete model (which could be a fct)\n",
    "        or a valid networkx scenario tree \n",
    "        or path to AMPL data file."
   ]
  },
  {
   "cell_type": "code",
   "execution_count": 1,
   "metadata": {},
   "outputs": [],
   "source": [
    "import pyomo.pysp.util.rapper as rapper\n",
    "import pyomo.environ as pyo"
   ]
  },
  {
   "cell_type": "code",
   "execution_count": 2,
   "metadata": {},
   "outputs": [],
   "source": [
    "solvername ='glpk'\n"
   ]
  },
  {
   "cell_type": "code",
   "execution_count": 3,
   "metadata": {},
   "outputs": [],
   "source": [
    "from model import pysp_instance_creation_callback, pysp_scenario_tree_model_callback\n",
    "stsolver = rapper.StochSolver(\n",
    "    \"\",\n",
    "    fsfct = pysp_instance_creation_callback,\n",
    "    tree_model = pysp_scenario_tree_model_callback(),\n",
    ")"
   ]
  },
  {
   "cell_type": "code",
   "execution_count": 4,
   "metadata": {},
   "outputs": [],
   "source": [
    "ef_sol = stsolver.solve_ef(solvername) \n"
   ]
  },
  {
   "cell_type": "code",
   "execution_count": 5,
   "metadata": {},
   "outputs": [
    {
     "name": "stdout",
     "output_type": "stream",
     "text": [
      "block_3.block_1.x 0.0\n"
     ]
    }
   ],
   "source": [
    "for varname, varval in stsolver.root_Var_solution(): \n",
    "   print (varname, str(varval)) "
   ]
  },
  {
   "cell_type": "code",
   "execution_count": null,
   "metadata": {},
   "outputs": [],
   "source": []
  }
 ],
 "metadata": {
  "interpreter": {
   "hash": "b7891c97950db643a469527d03f291aca4b0161ce93a86487042a530769d5903"
  },
  "kernelspec": {
   "display_name": "Python 3.9.5 64-bit ('.venv-pysp': venv)",
   "name": "python3"
  },
  "language_info": {
   "codemirror_mode": {
    "name": "ipython",
    "version": 3
   },
   "file_extension": ".py",
   "mimetype": "text/x-python",
   "name": "python",
   "nbconvert_exporter": "python",
   "pygments_lexer": "ipython3",
   "version": "3.9.5"
  },
  "orig_nbformat": 4
 },
 "nbformat": 4,
 "nbformat_minor": 2
}
