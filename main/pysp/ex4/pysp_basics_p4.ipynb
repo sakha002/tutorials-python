{
 "cells": [
  {
   "cell_type": "markdown",
   "metadata": {},
   "source": [
    "classpysp.util.rapper.StochSolver(fsfile, fsfct=None, tree_model=None, phopts=None)\n",
    "\n",
    "fsfile (str) – \n",
    "    is a path to the file that contains\n",
    "    the scenario callback for concrete or\n",
    "    the reference model for abstract.\n",
    "\n",
    "fsfct (str, or fct, or None) –\n",
    "    str: callback function name in the file\n",
    "    fct: callback function (fsfile is ignored)\n",
    "    None: it is a AbstractModel\n",
    "\n",
    "tree_model (concrete model, or networkx tree, or path) – \n",
    "    gives the tree as a \n",
    "        concrete model (which could be a fct)\n",
    "        or a valid networkx scenario tree \n",
    "        or path to AMPL data file."
   ]
  },
  {
   "cell_type": "code",
   "execution_count": 1,
   "metadata": {},
   "outputs": [],
   "source": [
    "import pyomo.pysp.util.rapper as rapper\n",
    "import pyomo.environ as pyo"
   ]
  },
  {
   "cell_type": "code",
   "execution_count": 2,
   "metadata": {},
   "outputs": [],
   "source": [
    "solvername ='glpk'\n"
   ]
  },
  {
   "cell_type": "code",
   "execution_count": 10,
   "metadata": {},
   "outputs": [],
   "source": [
    "from model import pysp_scenario_tree_model_callback, pysp_instance_creation_callback\n",
    "stsolver = rapper.StochSolver(\n",
    "    \"\",\n",
    "    fsfct = pysp_instance_creation_callback,\n",
    "    tree_model = pysp_scenario_tree_model_callback(),\n",
    ")"
   ]
  },
  {
   "cell_type": "code",
   "execution_count": 11,
   "metadata": {},
   "outputs": [],
   "source": [
    "ef_sol = stsolver.solve_ef(solvername) \n"
   ]
  },
  {
   "cell_type": "code",
   "execution_count": 12,
   "metadata": {},
   "outputs": [
    {
     "name": "stdout",
     "output_type": "stream",
     "text": [
      "DevotedAcreage[CORN] 80.68436128259859\n",
      "DevotedAcreage[SUGAR_BEETS] 267.5209649471329\n",
      "DevotedAcreage[WHEAT] 151.79467377026836\n"
     ]
    }
   ],
   "source": [
    "for varname, varval in stsolver.root_Var_solution(): \n",
    "   print (varname, str(varval)) "
   ]
  },
  {
   "cell_type": "code",
   "execution_count": null,
   "metadata": {},
   "outputs": [],
   "source": []
  },
  {
   "cell_type": "code",
   "execution_count": null,
   "metadata": {},
   "outputs": [
    {
     "name": "stdout",
     "output_type": "stream",
     "text": [
      "WARNING: DEPRECATED: Chained inequalities are deprecated. Use the inequality()\n",
      "    function to express ranged inequality expressions. (called from\n",
      "    /Users/h.akhavanhejazi/HosseinMac/local/tutorials-\n",
      "    python/main/pysp/ex3/ReferenceModelLinear.py:35)\n",
      "WARNING: DEPRECATED: Chained inequalities are deprecated. Use the inequality()\n",
      "    function to express ranged inequality expressions. (called from\n",
      "    /Users/h.akhavanhejazi/HosseinMac/local/tutorials-\n",
      "    python/main/pysp/ex3/ReferenceModelLinear.py:35)\n",
      "WARNING: DEPRECATED: Chained inequalities are deprecated. Use the inequality()\n",
      "    function to express ranged inequality expressions. (called from\n",
      "    /Users/h.akhavanhejazi/HosseinMac/local/tutorials-\n",
      "    python/main/pysp/ex3/ReferenceModelLinear.py:53)\n",
      "WARNING: DEPRECATED: Chained inequalities are deprecated. Use the inequality()\n",
      "    function to express ranged inequality expressions. (called from\n",
      "    /Users/h.akhavanhejazi/HosseinMac/local/tutorials-\n",
      "    python/main/pysp/ex3/ReferenceModelLinear.py:53)\n",
      "WARNING: DEPRECATED: Chained inequalities are deprecated. Use the inequality()\n",
      "    function to express ranged inequality expressions. (called from\n",
      "    /Users/h.akhavanhejazi/HosseinMac/local/tutorials-\n",
      "    python/main/pysp/ex3/ReferenceModelLinear.py:71)\n"
     ]
    }
   ],
   "source": [
    "from ReferenceModelLinear import pysp_instance_creation_callback\n",
    "from ScenarioTree import *  \n",
    "stsolver = rapper.StochSolver(\n",
    "    \"ReferenceModelLinear.py\",\n",
    "    fsfct = pysp_instance_creation_callback,\n",
    "    tree_model = \"ScenarioTree.py\"\n",
    ")"
   ]
  },
  {
   "cell_type": "code",
   "execution_count": null,
   "metadata": {},
   "outputs": [],
   "source": [
    "from ReferenceModelLinear import pysp_instance_creation_callback\n",
    "from ScenarioTree import *  \n",
    "stsolver = rapper.StochSolver(\n",
    "    \"ReferenceModelLinear.py\",\n",
    "    fsfct = pysp_instance_creation_callback,\n",
    "    tree_model = G,\n",
    ")"
   ]
  },
  {
   "cell_type": "code",
   "execution_count": null,
   "metadata": {},
   "outputs": [
    {
     "name": "stdout",
     "output_type": "stream",
     "text": [
      "ERROR: evaluating object as numeric value: u00.x\n",
      "        (object: <class 'pyomo.core.base.var.SimpleVar'>)\n",
      "    No value for uninitialized NumericValue object u00.x\n",
      "ERROR: evaluating object as numeric value: u00.x\n",
      "        (object: <class 'pyomo.core.base.var.SimpleVar'>)\n",
      "    No value for uninitialized NumericValue object u00.x\n",
      "ERROR: evaluating object as numeric value: u00.x\n",
      "        (object: <class 'pyomo.core.base.var.SimpleVar'>)\n",
      "    No value for uninitialized NumericValue object u00.x\n",
      "ERROR: evaluating object as numeric value: u00.xu0\n",
      "        (object: <class 'pyomo.core.base.var.SimpleVar'>)\n",
      "    No value for uninitialized NumericValue object u00.xu0\n",
      "ERROR: evaluating object as numeric value: u00.yu00\n",
      "        (object: <class 'pyomo.core.base.var.SimpleVar'>)\n",
      "    No value for uninitialized NumericValue object u00.yu00\n",
      "ERROR: evaluating object as numeric value: u01.x\n",
      "        (object: <class 'pyomo.core.base.var.SimpleVar'>)\n",
      "    No value for uninitialized NumericValue object u01.x\n",
      "ERROR: evaluating object as numeric value: u01.x\n",
      "        (object: <class 'pyomo.core.base.var.SimpleVar'>)\n",
      "    No value for uninitialized NumericValue object u01.x\n",
      "ERROR: evaluating object as numeric value: u01.x\n",
      "        (object: <class 'pyomo.core.base.var.SimpleVar'>)\n",
      "    No value for uninitialized NumericValue object u01.x\n",
      "ERROR: evaluating object as numeric value: u01.xu0\n",
      "        (object: <class 'pyomo.core.base.var.SimpleVar'>)\n",
      "    No value for uninitialized NumericValue object u01.xu0\n",
      "ERROR: evaluating object as numeric value: u01.yu01\n",
      "        (object: <class 'pyomo.core.base.var.SimpleVar'>)\n",
      "    No value for uninitialized NumericValue object u01.yu01\n",
      "ERROR: evaluating object as numeric value: u10.x\n",
      "        (object: <class 'pyomo.core.base.var.SimpleVar'>)\n",
      "    No value for uninitialized NumericValue object u10.x\n",
      "ERROR: evaluating object as numeric value: u10.x\n",
      "        (object: <class 'pyomo.core.base.var.SimpleVar'>)\n",
      "    No value for uninitialized NumericValue object u10.x\n",
      "ERROR: evaluating object as numeric value: u10.x\n",
      "        (object: <class 'pyomo.core.base.var.SimpleVar'>)\n",
      "    No value for uninitialized NumericValue object u10.x\n",
      "ERROR: evaluating object as numeric value: u10.xu1\n",
      "        (object: <class 'pyomo.core.base.var.SimpleVar'>)\n",
      "    No value for uninitialized NumericValue object u10.xu1\n",
      "ERROR: evaluating object as numeric value: u10.yu10\n",
      "        (object: <class 'pyomo.core.base.var.SimpleVar'>)\n",
      "    No value for uninitialized NumericValue object u10.yu10\n",
      "ERROR: evaluating object as numeric value: u11.x\n",
      "        (object: <class 'pyomo.core.base.var.SimpleVar'>)\n",
      "    No value for uninitialized NumericValue object u11.x\n",
      "ERROR: evaluating object as numeric value: u11.x\n",
      "        (object: <class 'pyomo.core.base.var.SimpleVar'>)\n",
      "    No value for uninitialized NumericValue object u11.x\n",
      "ERROR: evaluating object as numeric value: u11.x\n",
      "        (object: <class 'pyomo.core.base.var.SimpleVar'>)\n",
      "    No value for uninitialized NumericValue object u11.x\n",
      "ERROR: evaluating object as numeric value: u11.xu1\n",
      "        (object: <class 'pyomo.core.base.var.SimpleVar'>)\n",
      "    No value for uninitialized NumericValue object u11.xu1\n",
      "ERROR: evaluating object as numeric value: u11.yu11\n",
      "        (object: <class 'pyomo.core.base.var.SimpleVar'>)\n",
      "    No value for uninitialized NumericValue object u11.yu11\n",
      "ERROR: evaluating object as numeric value: u20.x\n",
      "        (object: <class 'pyomo.core.base.var.SimpleVar'>)\n",
      "    No value for uninitialized NumericValue object u20.x\n",
      "ERROR: evaluating object as numeric value: u20.x\n",
      "        (object: <class 'pyomo.core.base.var.SimpleVar'>)\n",
      "    No value for uninitialized NumericValue object u20.x\n",
      "ERROR: evaluating object as numeric value: u20.x\n",
      "        (object: <class 'pyomo.core.base.var.SimpleVar'>)\n",
      "    No value for uninitialized NumericValue object u20.x\n",
      "ERROR: evaluating object as numeric value: u20.xu2\n",
      "        (object: <class 'pyomo.core.base.var.SimpleVar'>)\n",
      "    No value for uninitialized NumericValue object u20.xu2\n",
      "ERROR: evaluating object as numeric value: u20.yu20\n",
      "        (object: <class 'pyomo.core.base.var.SimpleVar'>)\n",
      "    No value for uninitialized NumericValue object u20.yu20\n"
     ]
    }
   ],
   "source": [
    "ef_sol = stsolver.solve_ef(solvername) \n"
   ]
  },
  {
   "cell_type": "code",
   "execution_count": null,
   "metadata": {},
   "outputs": [
    {
     "name": "stdout",
     "output_type": "stream",
     "text": [
      "x None\n",
      "z None\n"
     ]
    }
   ],
   "source": [
    "for varname, varval in stsolver.root_Var_solution(): \n",
    "   print (varname, str(varval)) "
   ]
  }
 ],
 "metadata": {
  "interpreter": {
   "hash": "b7891c97950db643a469527d03f291aca4b0161ce93a86487042a530769d5903"
  },
  "kernelspec": {
   "display_name": "Python 3.9.5 64-bit ('.venv-pysp': venv)",
   "name": "python3"
  },
  "language_info": {
   "codemirror_mode": {
    "name": "ipython",
    "version": 3
   },
   "file_extension": ".py",
   "mimetype": "text/x-python",
   "name": "python",
   "nbconvert_exporter": "python",
   "pygments_lexer": "ipython3",
   "version": "3.9.5"
  },
  "orig_nbformat": 4
 },
 "nbformat": 4,
 "nbformat_minor": 2
}
