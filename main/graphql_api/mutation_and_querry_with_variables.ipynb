{
 "metadata": {
  "language_info": {
   "codemirror_mode": {
    "name": "ipython",
    "version": 3
   },
   "file_extension": ".py",
   "mimetype": "text/x-python",
   "name": "python",
   "nbconvert_exporter": "python",
   "pygments_lexer": "ipython3",
   "version": "3.9.1-final"
  },
  "orig_nbformat": 2,
  "kernelspec": {
   "name": "python3",
   "display_name": "Python 3.9.1 64-bit",
   "metadata": {
    "interpreter": {
     "hash": "ac2eaa0ea0ebeafcc7822e65e46aa9d4f966f30b695406963e145ea4a91cd4fc"
    }
   }
  }
 },
 "nbformat": 4,
 "nbformat_minor": 2,
 "cells": [
  {
   "source": [
    "# Graphql Querry and my common questions - How to ..."
   ],
   "cell_type": "markdown",
   "metadata": {}
  },
  {
   "source": [
    "Okay time for confession. It is embarassing but using and writing queries to our db for a while, I very much was relying on the custom built tools for connecting and passing the querries to graphql. So my focus was mostly on the proper format of the querry, and not much on the API. So much that when searching for 'graphql API in python' (this is what I needed right? some API for qraphql in python?!!), in the results I noticed quite a new name to me \"graphene\". \n",
    "https://graphene-python.org/\n",
    "\n",
    "Well I was pretty sure that was not the name I heared before, it was shorter. \n",
    "Yes It was this 'qgl' library.  \n",
    "https://pypi.org/project/gql/\n",
    "\n",
    "now what is the difference between the two here?\n",
    "\n",
    ">This is a GraphQL client for Python. Plays nicely with graphene, graphql-core, graphql-js and any other GraphQL implementation compatible with the spec.\n",
    "\n",
    "\n",
    "\n",
    "okay so ... a qraphQL. client. hmm, it is different than the API, right? how?\n",
    "\n",
    "it says that \n",
    "> Graphene-Python is a library for building GraphQL APIs in Python easily, its main goal is to provide a simple but extendable API for making developers' lives easier.\n",
    "\n",
    "Okay so (I think) it mean that graphene is for builing a graphQL API in python (e.g as a server)\n",
    "\n",
    "So it means that the focus should be on python gql library. and here is the right link finally! https://gql.readthedocs.io/en/v3.0.0a5/\n",
    "\n",
    "\n",
    "But I guess the reason that I could be this much oblivious, was that once you set up your client, you care mostly on how to get your data from the database.\n",
    "and that is what I want to pay attention to even now.\n",
    "\n",
    "So one thing I want to do is to send some data to the database, what should I do?"
   ],
   "cell_type": "markdown",
   "metadata": {}
  },
  {
   "source": [
    "## Hasura API Calls \n"
   ],
   "cell_type": "markdown",
   "metadata": {}
  },
  {
   "source": [
    "### Mutations"
   ],
   "cell_type": "markdown",
   "metadata": {}
  },
  {
   "source": [
    "So in grphql, the querries ( mutations, and so on) are kinda generated in advanced ( by the guy who set up the API) in a genric form that would be parametrized.\n",
    "\n",
    "for example, here I only define the \"{name: {_eq: \"test1\"}}\"\n",
    "```\n",
    "query MyQuery {\n",
    "  poc_schema_library(limit: 100, where: {name: {_eq: \"test1\"}}) {\n",
    "    id\n",
    "    name\n",
    "  }\n",
    "}\n",
    "```\n",
    "\n",
    "which results in \n",
    "\n",
    "```\n",
    "{\n",
    "  \"data\": {\n",
    "    \"poc_schema_library\": [\n",
    "      {\n",
    "        \"id\": \"4bbd380a-1652-4c64-b08e-7cd6a612b0d9\",\n",
    "        \"name\": \"test1\"\n",
    "      },\n",
    "      {\n",
    "        \"id\": \"c59bea72-6c4d-4630-80c4-e4beba8b049a\",\n",
    "        \"name\": \"test1\"\n",
    "      },\n",
    "      {\n",
    "        \"id\": \"15c9b962-a076-4d85-a637-65f9bfd545f4\",\n",
    "        \"name\": \"test1\"\n",
    "      },\n",
    "      {\n",
    "        \"id\": \"0936db2d-ffda-455b-9ad0-12477c6f36b3\",\n",
    "        \"name\": \"test1\"\n",
    "      }\n",
    "    ]\n",
    "  }\n",
    "}\n",
    "```\n",
    "\n",
    "**Question:** What if I had more conditions for my querry??\n",
    "\n",
    "**note** I need to distinguish, that these querry and mutation statements, are mostly for Hasura.\n",
    "and that graphql, may allow many diiferent kinds of data requests.\n",
    "\n",
    "okay now for pushing the data to the database I should use a \"mutation\".\n",
    "\n",
    "I see three types of mutations: insert, update, and delete. now what is each?\n",
    "\n"
   ],
   "cell_type": "markdown",
   "metadata": {}
  },
  {
   "source": [
    "### Simple Insert Statement"
   ],
   "cell_type": "markdown",
   "metadata": {}
  },
  {
   "source": [
    "starting with the insert one, seems the simplest way to push data:\n",
    "\n",
    "```\n",
    "mutation MyMutation {\n",
    "  insert_poc_schema_library(objects: {id: \"1\", name: \"test_name\", schema: \"test_schema\"}) {\n",
    "    affected_rows\n",
    "  }\n",
    "}\n",
    "```\n",
    "\n",
    "which sends one object to the table \"poc_schema_library\". If I wanted to send more object?\n",
    "it would become like this:\n",
    "\n",
    "```\n",
    "objects: [ {id: \"1\", name: \"test_name\", schema: \"test_schema\"}, {id: \"2\", name: \"test_name2\", schema: \"test_schema2\"}]\n",
    "```\n",
    "\n",
    "\n",
    "okay seems like an array of dictionaries. right?! \n",
    "\n",
    "Not quite. The keys should not have \"\" mark around them, e.g. 'name' and not '\"name\"'\n",
    "\n",
    "So let's say we want to pass a querry like this from python to GraphQL. what should we do?\n",
    "\n",
    "\n"
   ],
   "cell_type": "markdown",
   "metadata": {}
  },
  {
   "source": [
    "Assuming that we have  connected to the host db via gql client, for example something like this\n",
    "see [here](https://pypi.org/project/gql/)\n",
    "or [here](https://github.com/graphql-python/gql)\n",
    "or [here](https://gql.readthedocs.io/en/v3.0.0a5/usage/variables.html)\n",
    "\n",
    "```\n",
    "url = credentials[\"url\"]\n",
    "access_key = credentials[\"access_key\"]\n",
    "gql_transport = RequestsHTTPTransport(url=url, use_json=True)\n",
    "gql_transport.headers = {'x-hasura-access-key': access_key}\n",
    "gql_client = Client(transport=gql_transport,fetch_schema_from_transport=True)\n",
    "```\n",
    "\n",
    "or maybe even better:\n",
    "\n",
    "\n",
    "```\n",
    "from gql import Client, gql\n",
    "from gql.transport.requests import RequestsHTTPTransport\n",
    "hasura_url = 'hsura_server_url'\n",
    "hasura_secret = 'hassura_server_secret'\n",
    "gql_transport = RequestsHTTPTransport(\n",
    "    url=hasura_url,\n",
    "    use_json=True)\n",
    "gql_transport.headers = {\n",
    "    'x-hasura-access-key': hasura_secret}\n",
    "gql_client = Client(\n",
    "    transport=gql_transport,\n",
    "    fetch_schema_from_transport=True)\n",
    "\n",
    "```\n",
    "\n",
    "then we only need to provide the query statment to the client:\n",
    "\n",
    "```\n",
    "    result = gql_client.execute(statement)\n",
    "```\n",
    "\n",
    "(if the query has 'variables', which I get to later, there will be a variables argument to above as well)\n",
    "\n",
    "so  basically we shall have:\n",
    "\n",
    "```\n",
    "\n",
    "statement = \n",
    "\"\"\"\n",
    "mutation MyMutation {\n",
    "  insert_poc_schema_library(objects: [ {id: \"1\", name: \"test_name\", schema: \"test_schema\"}, {id: \"2\", name: \"test_name2\", schema: \"test_schema2\"}]) {\n",
    "    affected_rows\n",
    "  }\n",
    "}\n",
    "\"\"\"\n",
    "```\n",
    "\n",
    "which is all a string. now how should we generate that kind of string?\n",
    "\n",
    "let's say for the schema objects I have a list of records, each record a dictionary (including id, name, and schema), or maybe I get them from a dataframe, whatever, how can I put this long list in the right format?\n",
    "\n"
   ],
   "cell_type": "markdown",
   "metadata": {}
  },
  {
   "source": [
    "### Insert statement with variables"
   ],
   "cell_type": "markdown",
   "metadata": {}
  },
  {
   "source": [
    "Okay so for the above question, I came up with a hacky way before, but later I learned (almost) that it should be achived via variables, which I intend to figure out. But I want to start with the hacky way.\n",
    "so I though that the statement is composed of two patts, one the fixed boilerplate stuff that are not going to change for a particular query type:\n",
    "\n",
    "```\n",
    "\n",
    "mutation MyMutation {\n",
    "  insert_poc_schema_library(objects: [ list of \"some objects\" ]]) {\n",
    "    affected_rows\n",
    "  }\n",
    "}\n",
    "```\n",
    "and then the \"some objects\" parts that would be different for each data we push using a query like this. \n",
    "Also the objects I have them mostly in a dict or like that. \n",
    "So I included the first part in a template, and then injected the string for the second part, to create a string for the whole statement\n",
    "so for a list of records/dicts I had something like this:\n",
    "\n",
    "```\n",
    "def format_record_string(record):\n",
    "    def formated_key(key):\n",
    "        return \"{}\".format(key)\n",
    "\n",
    "    def formated_value(value):\n",
    "        if type(value) == str:\n",
    "            return '\"{}\"'.format(value)\n",
    "        else:\n",
    "            return \"{}\".format(value)\n",
    "\n",
    "    outstring = \",\\n\".join(\n",
    "        \"{}:{}\".format(formated_key(key), formated_value(value))\n",
    "        for key, value in record.items()\n",
    "    )\n",
    "\n",
    "    return \"{\" + outstring + \"}\"\n",
    "\n",
    "records_string = \"\"\n",
    "for record in record_list:\n",
    "\n",
    "    records_string += format_record_string(record) + \",\\n\"\n",
    "```\n",
    "\n",
    "  "
   ],
   "cell_type": "markdown",
   "metadata": {}
  },
  {
   "source": [
    "now obviously that is not the way to go, but I couldn't find a better way, until I heared we could use variables:\n",
    "\n",
    "```\n",
    "query2 = gql(\n",
    "    '''\n",
    "    mutation forecasts ($records: String!) {\n",
    "        insert_forecasts (\n",
    "            objects: $records,\n",
    "        ) {\n",
    "            affected_rows\n",
    "        }\n",
    "    }\n",
    "'''\n",
    ")\n",
    "\n",
    "\n",
    "\n",
    "sth = {\"records\": [\n",
    "                {\n",
    "                    'provider': \"test_hasura2\",\n",
    "                    'source': \"hasura2\",\n",
    "                    'source_created_at': \"2020-07-27 10:06:00-05:00\",\n",
    "                    'created_at': \"2020-07-27 10:06:00-05:00\",\n",
    "                    'model_id': \"test\",\n",
    "                    'venue': \"test\",\n",
    "                   'market': \"test\",\n",
    "                    'type': \"test\",\n",
    "                    'product': \"test\",\n",
    "                    'settlement_point': \"test\",\n",
    "                    'interval_beginning_time_utc': \"2020-07-27 11:00:00-05:00\",\n",
    "                    'interval_ending_time_utc': \"2020-07-27 12:00:00-05:00\",\n",
    "                    'uom': \"mwh\",\n",
    "                    'status': \"Final\",\n",
    "                    'id': \"test\",\n",
    "                    'probability_band_id': \"test\",\n",
    "                    'currency': \"$\"\n",
    "                }\n",
    "            ]}\n",
    "\n",
    "\n",
    "```\n",
    "\n",
    "and then\n",
    "\n",
    "```\n",
    "gql_client.execute(query2, variable_values=sth)\n",
    "```\n",
    "\n",
    "\n",
    "also\n",
    "\n",
    "```\n",
    "query3 = gql(\n",
    "    '''\n",
    "    mutation push_forecasts ($objects: [forecasts_input!]!) {\n",
    "        insert_forecasts (\n",
    "            objects: $objects,\n",
    "            \n",
    "        ) {\n",
    "            affected_rows\n",
    "        }\n",
    "    }\n",
    "'''\n",
    ")\n",
    "\n",
    "sth = {\"objects\": [\n",
    "                {\n",
    "                    'provider': \"test_hasura2\",\n",
    "                    'source': \"hasura2\",\n",
    "                    'source_created_at': \"2020-07-27 10:06:00-05:00\",\n",
    "                    'created_at': \"2020-07-27 10:06:00-05:00\",\n",
    "                    'model_id': \"test2\",\n",
    "                    'venue': \"test\",\n",
    "                   'market': \"test\",\n",
    "                    'type': \"test\",\n",
    "                    'product': \"test\",\n",
    "                    'settlement_point': \"test\",\n",
    "                    'interval_beginning_time_utc': \"2020-07-27 11:00:00-05:00\",\n",
    "                    'interval_ending_time_utc': \"2020-07-27 12:00:00-05:00\",\n",
    "                    'uom': \"mwh\",\n",
    "                    'status': \"Final\",\n",
    "                    'id': \"test2\",\n",
    "                    'probability_band_id': \"test2\",\n",
    "                    'currency': \"$\"\n",
    "                }\n",
    "            ]}\n",
    "\n",
    "\n",
    "gql_client.execute(query3   , variable_values=sth)\n",
    "\n",
    "```\n",
    "            \n",
    "\n",
    "\n",
    "okay so these give kind of an idea on how it should be done, the  \"sth\" here that we pass as variables, is a dict, which includes all the variable defenition.\n",
    "so here we only have \"objects\" defined as variable. \n",
    "\n"
   ],
   "cell_type": "markdown",
   "metadata": {}
  },
  {
   "source": [
    "But there is still a big question mark on the type we put in from of the variable ``` ($objects: [ orecasts_input! ]!) ```\n",
    "\n",
    "okay so more on this variables to come...\n",
    "\n"
   ],
   "cell_type": "markdown",
   "metadata": {}
  },
  {
   "source": [
    "Also In Hassura it looked to me that there are some other ways also to define the insert statement. so should look into this"
   ],
   "cell_type": "markdown",
   "metadata": {}
  },
  {
   "source": [
    "## Upsert Statement - insert with constraint on conflictss"
   ],
   "cell_type": "markdown",
   "metadata": {}
  },
  {
   "source": [
    "So I want to include and dive into this upsert statmenet. Basially insert tries to push new data to the table, but what if some data exactly like what we trying to push already exist? Think if we are runing some code repeatedly that push the same data. With insert the database will complain.\n",
    "usually in such cases we want to update the record that already exist with the new one, oh wait a minute, didn't I say that they are the same?\n",
    "if they are the same then why update it? so it does not mean necessarily that all fields are the same some fields that should be unique are repeated.\n",
    "So in a table in database we are inserting records, what is the database criteria for identifying a record as redundant.\n",
    "The field or fields that are supposed to be unique for records, i.e. the primary keys should not be the same.\n",
    "you can use those field(s)/primar key(s) to refer to an object if existing and update it.\n",
    "\n",
    "Oh I was supposed to look into this update statmenet separately.\n",
    "\n",
    "\n",
    "```\n",
    "            mutation upsert_forecasts ($objects: [forecasts_input!]!) {\n",
    "                insert_forecasts (\n",
    "                    objects: $objects,\n",
    "                    on_conflict: {\n",
    "                        constraint: price_prediction_pk,\n",
    "                        update_columns: [source_created_at]\n",
    "                    }\n",
    "                ) {\n",
    "                    affected_rows\n",
    "                }\n",
    "            }\n",
    "```\n",
    "\n",
    "\n"
   ],
   "cell_type": "markdown",
   "metadata": {}
  },
  {
   "source": [
    "side note: also I guess the 'forecast_input' is the type of the object we are sending in the graphgql api. but I need to get back to this."
   ],
   "cell_type": "markdown",
   "metadata": {}
  },
  {
   "source": [
    "Question: what if the database does not consider any new entry as duplicate? let's say that it assigns an id to each entry and stores as a unique record.\n",
    "What if I wanted to put my own update condition based on some field.\n",
    "for example in my case, the records even if the names were the same, but I knew that i didn't want to have some records repeated.\n",
    "I guess this will not be considered \"on_conflict\".\n",
    "So should I look for how we can palce constraint directly?"
   ],
   "cell_type": "markdown",
   "metadata": {}
  },
  {
   "source": [
    "okay so my search for this (so far) did not bring any solution.\n",
    "So seems to me that using insert/upsert one can't  check if a non-pk feature exist to update a record instead of inserting.\n",
    "\n",
    "I sought to see how update mutation could serve for the purpose. well if we know an entry exist that some of its features match our description, then we can update the record, the way we want, or even use the delete mutation.\n",
    "But if they don't exist it won't do anything.\n",
    "looks like to me for such operation I would try an upadate and if not succesful, try insert.\n",
    "shall look in the tuts."
   ],
   "cell_type": "markdown",
   "metadata": {}
  },
  {
   "source": [
    "### graphql code generator"
   ],
   "cell_type": "markdown",
   "metadata": {}
  },
  {
   "source": [
    "For later, this might be interesting for gql backend.\n",
    "\n",
    "https://graphql-code-generator.com/docs/getting-started/index\n",
    "\n",
    "\n",
    "GraphQL Code Generator is a CLI tool that can generate TypeScript typings out of a GraphQL schema. When we develop a GraphQL backend, there would be many instances where we would find ourselves writing the same things which are already described by the GraphQL schema, only in a different format; for example: resolver signatures, MongoDB models, Angular services etc.\n",
    "\n",
    "\n",
    "\n"
   ],
   "cell_type": "markdown",
   "metadata": {}
  },
  {
   "source": [
    "### Graphene"
   ],
   "cell_type": "markdown",
   "metadata": {}
  },
  {
   "source": [
    "for later, this is also very interesting for generating a gql server in the backend.\n",
    "\n",
    "https://docs.graphene-python.org/en/latest/quickstart/#introduction\n",
    "\n",
    "\n",
    "Graphene is a library that provides tools to implement a GraphQL API in Python using a code-first approach.\n",
    "\n",
    "Compare Graphene’s code-first approach to building a GraphQL API with schema-first approaches like Apollo Server (JavaScript) or Ariadne (Python). Instead of writing GraphQL Schema Definition Language (SDL), we write Python code to describe the data provided by your server.\n"
   ],
   "cell_type": "markdown",
   "metadata": {}
  },
  {
   "source": [
    "### gql Clientr Schema validation"
   ],
   "cell_type": "markdown",
   "metadata": {}
  },
  {
   "source": [
    "> If a GraphQL schema is provided, gql will validate the queries locally before sending them to the backend. If no schema is provided, gql will send the query to the backend without local validation.\n",
    "You can either provide a schema yourself, or you can request gql to get the schema from the backend using introspection.\n",
    "\n",
    "**Q** what is gql schema? how it looks like?"
   ],
   "cell_type": "markdown",
   "metadata": {}
  },
  {
   "source": [
    "### Insert an object with an ARRAY field    "
   ],
   "cell_type": "markdown",
   "metadata": {}
  },
  {
   "source": [
    "FROM https://hasura.io/docs/1.0/graphql/core/mutations/insert.html\n",
    "\n",
    "\n",
    "To insert fields of array types, you currently have to pass them as a Postgres array literal.\n",
    "\n",
    "```\n",
    "mutation insert_author {\n",
    "  insert_author (\n",
    "    objects: [\n",
    "      {\n",
    "        name: \"Ash\",\n",
    "        emails: \"{ash@ash.com, ash123@ash.com}\"\n",
    "      }\n",
    "    ]\n",
    "  ) {\n",
    "    affected_rows}\n",
    " ```\n",
    "\n",
    " which will add an array of two emails to the db. \"emails\": [\"ash@ash.com\", \"ash123@ash.com\"]\"\n",
    "\n",
    " this can be done using variables too:\n",
    "\n",
    " ```\n",
    " mutation insert_author($emails: _text) {\n",
    "  insert_author (\n",
    "    objects: [\n",
    "      {\n",
    "        name: \"Ash\",\n",
    "        emails: $emails\n",
    "      }\n",
    "    ]\n",
    "  ) {\n",
    "    affected_rows\n",
    "    ```\n",
    "\n",
    " and variables defined as:\n",
    "\n",
    "```\n",
    " {\n",
    "  \"emails\": \"{ash@ash.com, ash123@ash.com}\"\n",
    "}\n",
    "```\n",
    "\n",
    "\n",
    "well the email array here is still a string that is not easy to generate. "
   ],
   "cell_type": "markdown",
   "metadata": {}
  },
  {
   "source": [
    "### default value vs null value"
   ],
   "cell_type": "markdown",
   "metadata": {}
  },
  {
   "source": [
    "okay so I encountered this question a while back, If I want to have a filed to be set as its default value or be null what should I do?\n",
    "okay so for having the default values, or the autogenrated fileds (like ids) we would just ommit them.\n",
    "for the null values, if we just don't include them and there is no deafault value, it would set as null. Or, we could explicitly set them as null.\n",
    "better yet:\n",
    "\n",
    ">If a field is nullable in the database, to set its value to null, either pass its value as null or just omit it from the input object.\n",
    "\n"
   ],
   "cell_type": "markdown",
   "metadata": {}
  },
  {
   "source": [
    "## more on variables"
   ],
   "cell_type": "markdown",
   "metadata": {}
  },
  {
   "source": [
    "okay so previously I saw how the variables are added to the query.\n",
    "\n",
    "```\n",
    "mutation insert_single_article($object: article_insert_input! ) {\n",
    "  insert_article_one(object: $object) {\n",
    "    id\n",
    "    title\n",
    "  }\n",
    "}\n",
    "```\n",
    "\n",
    "with variables defined as:\n",
    "\n",
    "```\n",
    "{\n",
    "  \"object\": {\n",
    "    \"title\": \"Article 1\",\n",
    "    \"content\": \"Sample article content\",\n",
    "    \"author_id\": 3\n",
    "  }\n",
    "}\n",
    "```\n",
    "\n",
    "the question was how the type of the variables ( for example here object of type article_insert_input) are defined and where can we get them?\n",
    "\n",
    "in this example it looks that the object variable is entered as just a dict. so what is the type article_insert_input and where it is defined?\n",
    "looks like it is autogenerated by hasura(?!)\n"
   ],
   "cell_type": "markdown",
   "metadata": {}
  },
  {
   "source": [
    "### Insert an object along with its related objects through relationships"
   ],
   "cell_type": "markdown",
   "metadata": {}
  },
  {
   "source": [
    "see [here](https://hasura.io/docs/1.0/graphql/core/mutations/insert.html#insert-an-object-along-with-its-related-objects-through-relationships)\n"
   ],
   "cell_type": "markdown",
   "metadata": {}
  },
  {
   "source": [
    "### Insert an object with a JSONB field"
   ],
   "cell_type": "markdown",
   "metadata": {}
  },
  {
   "source": [
    "from \n",
    "https://hasura.io/blog/postgres-json-and-jsonb-type-support-on-graphql-41f586e47536/\n",
    "\n",
    "https://hasura.io/docs/1.0/graphql/core/mutations/insert.html#insert-an-object-with-a-jsonb-field\n",
    "\n",
    "\n",
    "\n",
    "\n",
    "\n",
    ">hstore, JSON and JSONB types enable storing schema-less (NoSQL) on Postgres\n",
    "Hasura GraphQL Engine supports JSON/JSONB columns\n",
    "JSONB operators are supported\n",
    "Postgres views created using derived data from JSONB columns can be queried through GraphQL, with filter operators like where\n",
    "\n",
    "```\n",
    "mutation insert_author($address: jsonb) {\n",
    "  insert_author (\n",
    "    objects: [\n",
    "      {\n",
    "        name: \"Ash\",\n",
    "        address: $address\n",
    "      }\n",
    "    ]\n",
    "  ) {\n",
    "    affected_rows\n",
    "    returning {\n",
    "      id\n",
    "      name\n",
    "      address\n",
    "    }\n",
    "  }\n",
    "}\n",
    "\n",
    "```\n",
    "\n",
    "okay so the variables here are defined as usual. The interesting part (to me is what is returned)\n",
    "\n",
    "```\n",
    "  \"returning\": [\n",
    "        {\n",
    "          \"id\": 1,\n",
    "          \"name\": \"Ash\",\n",
    "          \"address\": {\n",
    "            \"city\": \"Bengaluru\",\n",
    "            \"phone\": \"9090909090\",\n",
    "            \"state\": \"Karnataka\",\n",
    "            \"pincode\": 560095,\n",
    "            \"street_address\": \"161, 19th Main Road, Koramangala 6th Block\"\n",
    "          }\n",
    "        }\n",
    "      ]\n",
    "    }\n",
    "  }\n",
    "}\n",
    "```\n",
    "\n",
    "so here we have not defined an address type object. so if we enter anything under address, it will be okay.\n",
    "but the returning results is just like any normal querry.\n",
    "\n",
    "The even more interesting part is that we could even query this jsonb object, i.e ask to return objects that this jsonb part of them has a certain feature, like the state in their address be Karnataka..."
   ],
   "cell_type": "markdown",
   "metadata": {}
  }
 ]
}