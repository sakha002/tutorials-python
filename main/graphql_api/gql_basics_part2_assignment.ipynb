{
 "metadata": {
  "language_info": {
   "codemirror_mode": {
    "name": "ipython",
    "version": 3
   },
   "file_extension": ".py",
   "mimetype": "text/x-python",
   "name": "python",
   "nbconvert_exporter": "python",
   "pygments_lexer": "ipython3",
   "version": 3
  },
  "orig_nbformat": 2
 },
 "nbformat": 4,
 "nbformat_minor": 2,
 "cells": [
  {
   "source": [
    "## The gql Assignment!"
   ],
   "cell_type": "markdown",
   "metadata": {}
  },
  {
   "source": [
    "okay so first I need to delete this stuff from the schema library.\n",
    "\n",
    "```\n",
    "{\n",
    "  \"data\": {\n",
    "    \"poc_schema_library\": [\n",
    "      {\n",
    "        \"name\": \"Root generator schema\",\n",
    "        \"id\": \"1f8bb545-1f1e-41e5-b7aa-48efa94896b5\"\n",
    "      },\n",
    "      {\n",
    "        \"name\": \"Root portfolio schema\",\n",
    "        \"id\": \"76f49597-d38f-4aaf-be04-cf4c42a9ad24\"\n",
    "      },\n",
    "      {\n",
    "        \"name\": \"Root site schema\",\n",
    "        \"id\": \"8414f607-8c01-4062-9121-3fc403be2ba3\"\n",
    "      },\n",
    "      {\n",
    "        \"name\": \"\",\n",
    "        \"id\": \"b62aab41-888c-4bb4-920c-5ee6f98aa79c\"\n",
    "      }\n",
    "    ]\n",
    "  }\n",
    "}\n",
    "\n",
    "```\n",
    "\n",
    "so I go with the mutation:\n",
    "```\n",
    "mutation MyMutation {\n",
    "  delete_poc_schema_library(where: {name: {_in: [\"Root generator schema\",\"Root portfolio schema\",\"Root site schema\", \"\"]}}) {\n",
    "    affected_rows\n",
    "  }\n",
    "}\n",
    "```"
   ],
   "cell_type": "markdown",
   "metadata": {}
  },
  {
   "source": [
    "okay so I ain got acces to the repo on rok, should I do it on static pwb, or this pc?\n",
    "pc it is!\n",
    "okay so i did all the pushs and pulls to get things in sync. But bad news I had not pushed my stuff on the Rok. and now I can't access it. hope it is not gone!\n",
    "okay so I can't meaningfully build, but I can still beat around the bush.\n",
    "\n",
    "So I need to add some random instances of the assets and group defenistions based on the schemas that we have.\n",
    "\n",
    "I have some examples of the json file for assets, which is not a big deal, and obviously got the schemas\n",
    "\n",
    "also need to validate input data against the appropriate schema.\n",
    "\n",
    "I guess there was also some pereferance to ommit some of the \"optional features\" in some assets.\n"
   ],
   "cell_type": "markdown",
   "metadata": {}
  },
  {
   "source": [
    "So the way I see it a big part of the task is to define the ranges for these assets, groups etc.\n",
    "\n",
    "```\n",
    "\"Battery\": {\n",
    "    \"title\": \"Battery schema\",\n",
    "    \"description\": \"A schema to describe a battery\",\n",
    "    \"type\": \"object\",\n",
    "    \"additionalProperties\": false,\n",
    "    \"properties\": {\n",
    "        \"physical_params\": {\n",
    "            \"$ref\": \"#/definitions/PhysicalParams\"\n",
    "        },\n",
    "        \"market_params\": {\n",
    "            \"$ref\": \"#/definitions/MarketParams\"\n",
    "        },\n",
    "        \"contract_params\": {\n",
    "            \"$ref\": \"#/definitions/ContractParams\"\n",
    "        }\n",
    "    },\n",
    "    \"required\": [\n",
    "        \"physical_params\"\n",
    "    ]\n",
    "}\n",
    "\n",
    "```\n",
    "\n",
    "okay so here the battery is created from a physical_params object, a market params object and contract_params object. But only physical params are required.\n",
    "\n",
    "The physical_params is itself a composite object, and so the objects beneath it. \n",
    "So I most defintely would need this quick types to form the python hirarchy.\n",
    "hopefully I can create the classes from json schema\n",
    "I also need some json file, that has the ranges.\n",
    "the schema of the range data should be close to schema itself.\n",
    "\n",
    "so I created a json file for the type ranges, which is somewhat closer to data than a schema.\n",
    "But for some fields like batetry discahrge rate, I need to put it the same as charge, a kind of reference,\n",
    "which is not supported(?)\n",
    "\n",
    "okay so there are many relational constraints on the parameters. Not sure, if they can be generated purely random, and if creating a range for each parameter is meaningful.\n",
    "\n",
    "SO I figured if I create the data structure based on the ParamterRange objects, then I can create the random generated dicts, from the classes.\n"
   ],
   "cell_type": "markdown",
   "metadata": {}
  }
 ]
}