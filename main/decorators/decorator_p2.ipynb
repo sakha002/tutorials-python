{
 "cells": [
  {
   "cell_type": "code",
   "execution_count": null,
   "metadata": {},
   "outputs": [],
   "source": [
    "\n",
    "def log_function_parameters(func=None, logger=None, level=logging.DEBUG, message=None, log_execution_time=True):\n",
    "    if func is None:\n",
    "        return partial(log_function_parameters, logger=logger, level=level, message=message)\n",
    "\n",
    "    logger = logger or get_logger(__name__)\n",
    "\n",
    "    @wraps(func)\n",
    "    def wrapper(*args, **kwargs):\n",
    "        function_name = func.__name__\n",
    "\n",
    "        parameter_list = [f\"{key}:{value}\" for key, value in kwargs.items()]\n",
    "\n",
    "        parameters_message = \"\\n\\t\\t\".join(parameter_list)\n",
    "        parameters_message = f\"\"\"\n",
    "        FUNCTION NAME: {function_name}\n",
    "        \n",
    "        PARAMETERS:\n",
    "        \\t{parameters_message}\n",
    "        \"\"\"\n",
    "\n",
    "        logger.log(level, parameters_message)\n",
    "        if message:\n",
    "            logger.log(level, message)\n",
    "\n",
    "        try:\n",
    "            start_time = time.time()\n",
    "            result = func(*args, **kwargs)\n",
    "            if log_execution_time:\n",
    "                finish_date = time.time()\n",
    "                execution_time = finish_date - start_time\n",
    "                logger.log(level, f\"Execution time: {execution_time}\")\n",
    "            return result\n",
    "        except Exception as exc:\n",
    "            logger.info(parameters_message)\n",
    "            raise Exception from exc\n",
    "\n",
    "    return wrapper"
   ]
  }
 ],
 "metadata": {
  "language_info": {
   "name": "python"
  },
  "orig_nbformat": 4
 },
 "nbformat": 4,
 "nbformat_minor": 2
}
