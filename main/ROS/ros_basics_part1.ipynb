{
 "metadata": {
  "language_info": {
   "codemirror_mode": {
    "name": "ipython",
    "version": 3
   },
   "file_extension": ".py",
   "mimetype": "text/x-python",
   "name": "python",
   "nbconvert_exporter": "python",
   "pygments_lexer": "ipython3",
   "version": "3.9.1-final"
  },
  "orig_nbformat": 2,
  "kernelspec": {
   "name": "python3",
   "display_name": "Python 3.9.1 64-bit",
   "metadata": {
    "interpreter": {
     "hash": "ac2eaa0ea0ebeafcc7822e65e46aa9d4f966f30b695406963e145ea4a91cd4fc"
    }
   }
  }
 },
 "nbformat": 4,
 "nbformat_minor": 2,
 "cells": [
  {
   "source": [
    "# ROS Basics - Part 1:\n"
   ],
   "cell_type": "markdown",
   "metadata": {}
  },
  {
   "source": [
    "The goal here is to satisfy one of my old Tech Debt satisfaction.\n",
    "\n",
    "That is to find out the capabalities and advantages of using ROS for distributed processing.\n",
    "Also remind me to mention Dask for a related futrue tech (learning) debt.\n",
    "\n",
    "So ROS is Short for Robot Operating System.\n",
    "It was also used a lot for distributed and multi agent control applications."
   ],
   "cell_type": "markdown",
   "metadata": {}
  },
  {
   "source": [
    "## What is ROS originally do?\n"
   ],
   "cell_type": "markdown",
   "metadata": {}
  },
  {
   "source": [
    "The Robot Operating System (ROS) is a set of software libraries and tools that help you build robot applications. From drivers to state-of-the-art algorithms, and with powerful developer tools, ROS has what you need for your next robotics project. And it's all open source.\n",
    "\n",
    "wikipedia.org/wiki/Robot_Operating_System\n",
    "\n",
    "\n",
    "The ROS runtime \"graph\" is a peer-to-peer network of processes (potentially distributed across machines) that are loosely coupled using the ROS communication infrastructure. ROS implements several different styles of communication, including synchronous RPC-style communication over services, asynchronous streaming of data over topics, and storage of data on a Parameter Server. These are explained in greater detail in our Conceptual Overview.\n",
    "http://wiki.ros.org/ROS/Introduction"
   ],
   "cell_type": "markdown",
   "metadata": {}
  },
  {
   "source": [
    "## What is ROS good for? "
   ],
   "cell_type": "markdown",
   "metadata": {}
  },
  {
   "source": [
    "Is ROS a Unique Library that provide special functionality? Are there tools that can do the same job, or better?\n",
    "\n",
    "\n",
    "If we consider my special intention from using ROS that is for orchestrating distributed (optimization) processes and setting up nodes that operate and live independently and talk to each other, is ROS actually the best way to go?\n",
    "Does Ducker itslef or docker network or kubernetes satisfy this purpose?\n",
    "What about the gRPC that I was using before, it is serving for talking/liseting between processes (server/clients) as well, right?\n",
    "What is the advantage of ROS for me here?\n",
    "\n",
    "TBC\n"
   ],
   "cell_type": "markdown",
   "metadata": {}
  },
  {
   "source": [
    "## setup ROS (with docker)"
   ],
   "cell_type": "markdown",
   "metadata": {}
  },
  {
   "source": [
    "so I did set up ROS a whole while back. I guess at that time a big challenge was backwards compatibility.\n",
    "For example, although there was some new versions of ROS most of the coomunity developed apps were under an older version which I can't recall now.\n",
    "of course this was some 5 years back.\n",
    "\n",
    "Now recently I saw the i8mage of docker in dockerhub, so the job would be much eaiser hopefully.\n"
   ],
   "cell_type": "markdown",
   "metadata": {}
  },
  {
   "cell_type": "code",
   "execution_count": 1,
   "metadata": {},
   "outputs": [
    {
     "output_type": "stream",
     "name": "stdout",
     "text": [
      "ros_basics_part1.ipynb\n"
     ]
    }
   ],
   "source": [
    "!ls\n"
   ]
  },
  {
   "cell_type": "code",
   "execution_count": 2,
   "metadata": {},
   "outputs": [
    {
     "output_type": "stream",
     "name": "stdout",
     "text": [
      "Using default tag: latest\n",
      "latest: Pulling from library/ros\n",
      "\n",
      "\u001b[1B\n",
      "\u001b[1B\n",
      "\u001b[1B\n",
      "\u001b[1B\n",
      "\u001b[1B\n",
      "\u001b[1B\n",
      "\u001b[1B\n",
      "\u001b[1B\n",
      "\u001b[1B\n",
      "\u001b[1B\n",
      "\u001b[1B\n",
      "\u001b[1B\n",
      "\u001b[1BDigest: sha256:bf9fa7d3f095faabf7646cd076e6594a0a262146a2b75a2c9c7adc0e8ebb555a\n",
      "Status: Downloaded newer image for ros:latest\n",
      "docker.io/library/ros:latest\n"
     ]
    }
   ],
   "source": [
    "!docker pull ros\n"
   ]
  },
  {
   "source": [
    "okay now I got the image. what is next? start a container based on that?\n",
    "\n",
    "```\n",
    "docker run --rm -it  ros:latest \n",
    "```\n",
    "\n",
    "well this of course will not persist any file or data generated in the container. If I wanted to do that, what I would do?\n",
    "If I wanted to update the image? This is of course the question for the Docker WB tut.\n",
    "\n",
    "What if I wanted to add to the libs or packages on this image/container?\n",
    "\n",
    "\n",
    "What should I do next? how to run or use ROS?\n",
    "\n",
    "\n",
    "[installing ROS via this image just brought me to an old experience with ROS, what if we don't wish to use the latest verion release of ROS?\n",
    "Specially if you have packages that are not compatible with the latest release?\n",
    "this page here is also related to this?\n",
    "http://wiki.ros.org/ROS/Installation\n",
    "Also related to ros different release, I recall the last time I was using this it was only ros, so I guess ros2, is a whole lot different\n",
    "I was using the latest version Kinetic at the time, but most packages were under Indigo, which also was not even compatible with the latest version of ubunto at the time, ugh!\n",
    "]\n",
    "\n",
    "\n"
   ],
   "cell_type": "markdown",
   "metadata": {}
  },
  {
   "source": [
    "## how to run/use the image?"
   ],
   "cell_type": "markdown",
   "metadata": {}
  },
  {
   "source": [
    "okay so I run the image interactively and I get into the container terminal.\n",
    "Supposedly the ROS tools are installed now.\n",
    "What I am suuposed to do next?\n",
    "\n",
    "form this same dockerhub ros [link](https://hub.docker.com/_/ros) we can get some idea of where to go next.\n",
    "This shows an image built based on this current image:\n",
    "\n",
    "```\n",
    "FROM ros:foxy\n",
    "\n",
    "# install ros package\n",
    "RUN apt-get update && apt-get install -y \\\n",
    "      ros-${ROS_DISTRO}-demo-nodes-cpp \\\n",
    "      ros-${ROS_DISTRO}-demo-nodes-py && \\\n",
    "    rm -rf /var/lib/apt/lists/*\n",
    "\n",
    "# launch ros package\n",
    "CMD [\"ros2\", \"launch\", \"demo_nodes_cpp\", \"talker_listener.launch.py\"]\n",
    "```\n",
    "\n",
    "okay now that I am within the container I can just run the commands (for installing the ros packages) in the terminal\n",
    "\n",
    "```\n",
    "ros2 launch demo_nodes_cpp talker_listener.launch.py\n",
    "```\n",
    "\n",
    "here is what I get:\n",
    "\n",
    "```\n",
    "usage: ros2 launch [-h] [-d] [-p | -s] [-a] package_name [launch_file_name] [launch_arguments [launch_arguments ...]]\n",
    "ros2 launch: error: the following arguments are required: package_name, launch_arguments\n",
    "root@a4e5f58d7d02:/# ros2 launch demo_nodes_cpp talker_listener.launch.py\n",
    "[INFO] [launch]: All log files can be found below /root/.ros/log/2021-01-10-02-14-30-898251-a4e5f58d7d02-396\n",
    "[INFO] [launch]: Default logging verbosity is set to INFO\n",
    "[INFO] [talker-1]: process started with pid [398]\n",
    "[INFO] [listener-2]: process started with pid [400]\n",
    "[talker-1] [INFO] [1610244872.061854600] [talker]: Publishing: 'Hello World: 1'\n",
    "[listener-2] [INFO] [1610244872.063177900] [listener]: I heard: [Hello World: 1]\n",
    "[talker-1] [INFO] [1610244873.061254000] [talker]: Publishing: 'Hello World: 2'\n",
    "[listener-2] [INFO] [1610244873.062251400] [listener]: I heard: [Hello World: 2]\n",
    "[talker-1] [INFO] [1610244874.059941700] [talker]: Publishing: 'Hello World: 3'\n",
    "[listener-2] [INFO] [1610244874.061188700] [listener]: I heard: [Hello World: 3]\n",
    "[talker-1] [INFO] [1610244875.065082700] [talker]: Publishing: 'Hello World: 4'\n",
    "[listener-2] [INFO] [1610244875.065845700] [listener]: I heard: [Hello World: 4]\n",
    "...\n",
    "```\n",
    "\n",
    "So what was the usage of the 'ros2' command?\n",
    "\n",
    "how the usage guide of\n",
    "```\n",
    "usage: ros2 launch [-h] [-d] [-p | -s] [-a] package_name [launch_file_name] [launch_arguments [launch_arguments ...]]\n",
    "```\n",
    "match to the command I put:\n",
    "\n",
    "```\n",
    "ros2 launch demo_nodes_cpp talker_listener.launch.py\n",
    "```\n",
    "is it like this?\n",
    "package = demo_nodes_cpp\n",
    "launh_file_name = talker_listener.launch.py\n",
    "\n",
    "I guess I need to get a bit of intro from ROS next.\n",
    "\n",
    "Also looking at the example, if it shows the way nodes (processes) are created and managed by ROS and talking to each other. Does it relieve pressure from something like spawing containers for each process? here we coudl have a hundred mini process within this single container.\n",
    "\n"
   ],
   "cell_type": "markdown",
   "metadata": {}
  },
  {
   "source": [
    "## Another tutorial for getting started with ROS via Docker\n"
   ],
   "cell_type": "markdown",
   "metadata": {}
  },
  {
   "source": [
    "I am not going through this right now, but it seems interesting:\n",
    "\n",
    "http://wiki.ros.org/docker/Tutorials/Docker\n",
    "\n"
   ],
   "cell_type": "markdown",
   "metadata": {}
  },
  {
   "source": [
    "## ROS Introductions"
   ],
   "cell_type": "markdown",
   "metadata": {}
  },
  {
   "source": [
    "from http://wiki.ros.org/\n",
    "\n",
    "\n",
    "okay going through some of the old ROS introductions and documentations, finally found that I better statrt with the ros2 specific documentations\n",
    "in [here](https://index.ros.org/doc/ros2/Contributing/Developer-Guide/)\n",
    "\n",
    "okay quick note: seems the ros2 documentation is written with the implicit assumption that the reader already know all about Ros(1) and also comfortabe in c++.\n",
    "\n",
    "okay [this] (https://index.ros.org/doc/ros2/Tutorials/Configuring-ROS2-Environment/) one is better.\n",
    "\n",
    "\n",
    ">ROS 2 relies on the notion of combining workspaces using the shell environment. “Workspace” is a ROS term for the location on your system where you’re developing with ROS 2. The core ROS 2 workspace is called the underlay. Subsequent local workspaces are called overlays. When developing with ROS 2, you will typically have several workspaces active concurrently.\n",
    "\n",
    ">Combining workspaces makes developing against different versions of ROS 2, or against different sets of packages, easier. It also allows the installation of several ROS 2 distributions (or “distros”, e.g. Dashing and Eloquent) on the same computer and switching between them.\n",
    "\n",
    ">This is accomplished by sourcing setup files every time you open a new shell, or by adding the source command to your shell startup script once. Without sourcing the setup files, you won’t be able to access ROS 2 commands, or find or use ROS 2 packages. In other words, you won’t be able to use ROS 2.\n",
    "\n",
    "\n",
    "Again, most of the stuff not relevant.\n",
    "\n",
    "\n",
    "Now heading to the familiar name TurtleSim Tutorial\n",
    "\n",
    "urtlesim is a lightweight simulator for learning ROS 2. It illustrates what ROS 2 does at the most basic level, to give you an idea of what you will do with a real robot or robot simulation later on.\n",
    "\n",
    "\n",
    "```\n",
    "sudo apt update\n",
    "\n",
    "sudo apt install ros-<distro>-turtlesim\n",
    "```\n",
    "okay I don't need sudo and my distro is foxy.\n",
    "\n",
    "so installed.\n",
    "\n",
    "okay still the turtlesim tutorial was not much usefull.\n",
    "\n",
    "Though, it showed how you can call a few processes under a package. \n",
    "\n",
    "```\n",
    "ros2 run turtlesim turtlesim_node\n",
    "```\n",
    "\n",
    "and how you can see the executables under a package.\n",
    "```\n",
    "ros2 pkg executables turtlesim\n",
    "\n",
    "turtlesim draw_square\n",
    "turtlesim mimic\n",
    "turtlesim turtle_teleop_key\n",
    "turtlesim turtlesim_node\n",
    "```\n",
    "\n",
    "and how to list nodes, topics, etc. after a few ros processes are running:\n",
    "```\n",
    "ros2 node list\n",
    "ros2 topic list\n",
    "ros2 service list\n",
    "ros2 action list\n",
    "```\n",
    "\n",
    "the 'rqt' application does not seem to be applicable in the docker container.\n"
   ],
   "cell_type": "markdown",
   "metadata": {}
  }
 ]
}