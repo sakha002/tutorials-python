{
 "metadata": {
  "language_info": {
   "codemirror_mode": {
    "name": "ipython",
    "version": 3
   },
   "file_extension": ".py",
   "mimetype": "text/x-python",
   "name": "python",
   "nbconvert_exporter": "python",
   "pygments_lexer": "ipython3",
   "version": 3
  },
  "orig_nbformat": 2
 },
 "nbformat": 4,
 "nbformat_minor": 2,
 "cells": [
  {
   "source": [
    "# ROS Basics - Part 2"
   ],
   "cell_type": "markdown",
   "metadata": {}
  },
  {
   "source": [
    "so from the previous session, I recall I could not get much use from the turtulesim tutorial.\n",
    "i wanted to take some look into the codes, see if it is in python and I catch anything from it."
   ],
   "cell_type": "markdown",
   "metadata": {}
  },
  {
   "source": [
    "so I load the ros container, I need to install the turtlesim package again.\n",
    "\n",
    "searching in the packge files, looks like I can't find anything usefull :/\n"
   ],
   "cell_type": "markdown",
   "metadata": {}
  },
  {
   "source": [
    "a few more ros commands in the turtlesim tut:\n",
    "```\n",
    "ros2 node info /my_turtle\n",
    "\n",
    "ros2 run turtlesim turtlesim_node --ros-args --remap __node:=my_turtle\n",
    "\n",
    "\n",
    "```\n",
    "```ros2 topic list -t ```will return the same list of topics, this time with the topic type appended in brackets after each\n",
    "\n",
    "```\n",
    "/parameter_events [rcl_interfaces/msg/ParameterEvent]\n",
    "/rosout [rcl_interfaces/msg/Log]\n",
    "/turtle1/cmd_vel [geometry_msgs/msg/Twist]\n",
    "/turtle1/color_sensor [turtlesim/msg/Color]\n",
    "/turtle1/pose [turtlesim/msg/Pose]\n",
    "```\n",
    "\n",
    "To see the data being published on a topic, use: ```ros2 topic echo <topic_name> ```\n",
    "\n",
    "Topics don’t have to only be point-to-point communication; it can be one-to-many, many-to-one, or many-to-many.\n",
    "```\n",
    "ros2 topic info /turtle1/cmd_vel\n",
    "```\n",
    "\n",
    "```\n",
    "Type: geometry_msgs/msg/Twist\n",
    "Publisher count: 1\n",
    "Subscriber count: 2\n",
    "```\n",
    "\n",
    "Nodes send data over topics using messages. Publishers and subscribers must send and receive the same type of message to communicate.\n",
    "\n",
    "The topic types we saw earlier after running ros2 topic list -t let us know what type of messages each topic can send. Recall that the cmd_vel topic has the type:\n",
    "```\n",
    "geometry_msgs/msg/Twist\n",
    "```\n",
    "Now we can run ```ros2 interface show <type>.msg ```on this type to learn its the details, specifically, what structure of data the message expects.\n",
    "\n",
    "\n",
    "```\n",
    "ros2 interface show geometry_msgs/msg/Twist\n",
    "\n",
    "```"
   ],
   "cell_type": "markdown",
   "metadata": {}
  },
  {
   "source": [
    "## set up a workspace"
   ],
   "cell_type": "markdown",
   "metadata": {}
  },
  {
   "source": [
    "```\n",
    "mkdir -p ~/dev_ws/src\n",
    "cd ~/dev_ws/src\n",
    "```\n",
    "\n",
    "```\n",
    "git clone https://github.com/ros/ros_tutorials.git -b <distro>-devel\n",
    "\n",
    "```\n",
    "\n",
    "\n",
    "installing the dependecies:\n",
    "\n",
    "```\n",
    "root@faff69968b4b:~/dev_ws# rosdep install -i --from-path src --rosdistro foxy -y\n",
    "```\n",
    "\n",
    "oaky the next step is to build the workspace with colcon\n",
    "\n",
    "```\n",
    "root@faff69968b4b:~/dev_ws# colcon build\n",
    "```\n",
    "\n",
    ">Note Other useful arguments for colcon build:\n",
    "\n",
    "--packages-up-to builds the package you want, plus all its dependencies, but not the whole workspace (saves time)\n",
    "\n",
    "--symlink-install saves you from having to rebuild every time you tweak python scripts\n",
    "\n",
    "--event-handlers console_direct+ shows console output while building (can otherwise be found in the log directory)\n",
    "\n",
    "\n",
    "The install directory is where your workspace’s setup files are, which you can use to source your overlay.\n",
    "\n",
    "**Before sourcing the overlay, it is very important that you open a new terminal, separate from the one where you built the workspace. Sourcing an overlay in the same terminal where you built, or likewise building where an overlay is sourced, may create complex issues.**\n",
    "\n",
    "okay so I can think of two ways for this issue, first put the build commands in the dockerfile, and second somehow reseting the terminal"
   ],
   "cell_type": "markdown",
   "metadata": {}
  },
  {
   "source": [],
   "cell_type": "markdown",
   "metadata": {}
  },
  {
   "source": [
    "sh, ., bash, zsh, what is all the differece?!"
   ],
   "cell_type": "markdown",
   "metadata": {}
  }
 ]
}