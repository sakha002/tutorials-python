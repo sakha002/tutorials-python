{
 "metadata": {
  "language_info": {
   "codemirror_mode": {
    "name": "ipython",
    "version": 3
   },
   "file_extension": ".py",
   "mimetype": "text/x-python",
   "name": "python",
   "nbconvert_exporter": "python",
   "pygments_lexer": "ipython3",
   "version": 3
  },
  "orig_nbformat": 2
 },
 "nbformat": 4,
 "nbformat_minor": 2,
 "cells": [
  {
   "source": [
    "# ROS Basics - Part 4\n"
   ],
   "cell_type": "markdown",
   "metadata": {}
  },
  {
   "source": [
    "## ROS compared to gRPC"
   ],
   "cell_type": "markdown",
   "metadata": {}
  },
  {
   "source": [
    "so this question I can't get my mind off of.\n",
    "\n",
    "I started on ros with the idea that it could be well suited for distributed optimization, or a distributed environement for ecosim. \n",
    "I thought it creates an easy way to spin out multiple nodes either within a single container or multiple containers\n",
    "and also to create client/service and pub/sub relations between the nodes.\n",
    "my thought was true, but I had this side assumption that doing all these with other service/client tools\n",
    "like gRPC would be more difficult. Well I did not know how you can create a pub/sub archietct with gRPC.\n",
    "\n",
    "but with seeing that it is possible to achieve it with grpc, and also looking at the way messages are defined in ROS, made me to question again.\n",
    "how these two compare?\n",
    "\n",
    "okay we know that you can create many nodes in Ros. but what is a node?\n",
    "\n",
    "(node is a process that communicates with other processes, now either as service/client or pub/sub, and the third type. )\n",
    "a prcoess can be a server, which calls other functions, or can create multiple threads.\n",
    "\n",
    "ROS :\n",
    "\n",
    "    can a node spin another node? can you create and/or destroy nodes on the go?\n",
    "\n",
    "    we could also have some docker container(s) with Ros and solver/aml tools preped\n",
    "    and ready to be spawn as a node?!\n",
    "\n",
    "    these are of course not easily done, node creation/destroy at runtime, etc.,\n",
    " combination with docker network,etc.\n",
    "\n",
    " GRPC:\n",
    "\n",
    "    you would need all your services/clients up and running in the container.\n",
    "\n",
    "    the comunication of two conatiners, and services in the two, more complicated?\n",
    "\n",
    "    also need an rpc pubsub framework\n",
    "\n",
    "    meesages are more elaborate\n",
    "\n",
    "Final notes:\n",
    "This node creation/managment in the runtime, seems a bit out of reach, even in ros.\n",
    "But Maybe, it can be devised at least in a way that you can decide how many nodes to spin out while getting a request.\n",
    "In The GRPC case, you would create a bunch of separate containers, each with a few server process.\n",
    "Would we have the issue of grpc service porcesses dying out in a container and not being able to manage?\n",
    "( The comuunication of the services/clients on these containers is a question but seems doable.)\n",
    "Overall, although I have a great interest to try out ros, I feel the grpc way, will be more reasonable way to do it\n",
    "Well, this is with the assumption that the grpc pub/sub framework whould meet what we need.\n",
    "\n",
    "\n",
    "okay wait a minute, I guess I am overlooking the fact that ros gives more flexibility over selection and configuration of the processes to be spawn,\n",
    "there is an extra layer of mix and match, whereas in grpc, process is a docker, or a docker is a few processes, that are all activated by the docker composer\n",
    "when running a docker network.Now of course we could have services that just run idle and don't get a request. but will that cause issues?\n",
    "\n",
    "okay I guess if I had looked a bit deeper into this google cloud pub/sub for grpc, I would not have had all this debate. Clearly it is an enterprise servcice\n",
    "which is much too overkill for this. I guess the Kafka would be similar to that of google pubsub, well in that a single service, providing interface for producers/consumers.\n",
    "\n",
    "ok so back to business of figuring out ros.\n",
    "\n",
    "usefull discussion:\n",
    "\n",
    "https://answers.ros.org/question/214584/capabilities-of-distributed-processing-in-ros/\n",
    "\n",
    "need to remember that for outside world interactions the grpc is much more suited. \n",
    "I am not even sure that for distributed optimization it wouldn't be better to use grpc and just implement some design based on\n",
    "client/server.\n",
    "\n"
   ],
   "cell_type": "markdown",
   "metadata": {}
  },
  {
   "source": [
    "## custom interfaces - continued\n"
   ],
   "cell_type": "markdown",
   "metadata": {}
  },
  {
   "source": [
    "from https://index.ros.org/doc/ros2/Tutorials/Single-Package-Define-And-Use-Interface/#singlepkginterface\n",
    "\n",
    "also these two usefull to keep open [concept](https://index.ros.org/doc/ros2/Concepts/About-ROS-Interfaces/#interfaceconcept) and [simpler example](https://index.ros.org/doc/ros2/Tutorials/Custom-ROS2-Interfaces/#id9)\n",
    "\n",
    "So I had a bunch of questions for the interfaces. \n",
    "    how should I define a bunch of messages that use each other in the same package, how should I refer to them in a msg file\n",
    "    how you define message and use it in the package.\n",
    "\n",
    "This example shows defining a message and using it in the same package. but it is for cpp. \n",
    "I tried to go through the example but instead use the messages in python. Then there was this question that how would I define the package.xml, setup and CMakeLists files. I found some stuff on how to have both cpp and py files in the same package.\n",
    "but I saw finally that it seems better to just define your messages in cpp in a seperate package, compile it, and then use them seperately in python.\n",
    "\n",
    "the other idea I had was about building images on top of each other. \n",
    "\n",
    "okay so I managed to run the example with defining an interafce and using it. "
   ],
   "cell_type": "markdown",
   "metadata": {}
  }
 ]
}